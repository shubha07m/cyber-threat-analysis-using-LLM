{
  "nbformat": 4,
  "nbformat_minor": 0,
  "metadata": {
    "colab": {
      "provenance": [],
      "gpuType": "T4"
    },
    "kernelspec": {
      "name": "python3",
      "display_name": "Python 3"
    },
    "language_info": {
      "name": "python"
    },
    "accelerator": "GPU",
    "widgets": {
      "application/vnd.jupyter.widget-state+json": {
        "3107b2c3b697423fba41f6548caf555d": {
          "model_module": "@jupyter-widgets/controls",
          "model_name": "HBoxModel",
          "model_module_version": "1.5.0",
          "state": {
            "_dom_classes": [],
            "_model_module": "@jupyter-widgets/controls",
            "_model_module_version": "1.5.0",
            "_model_name": "HBoxModel",
            "_view_count": null,
            "_view_module": "@jupyter-widgets/controls",
            "_view_module_version": "1.5.0",
            "_view_name": "HBoxView",
            "box_style": "",
            "children": [
              "IPY_MODEL_b3673061ede241ee98ceae600ec9554e",
              "IPY_MODEL_a6ddac7e5e454304829956aa4498768f",
              "IPY_MODEL_26946e9d18de4aa58479ef0bda65b516"
            ],
            "layout": "IPY_MODEL_fd74760849e44d5fa79821d60007636b"
          }
        },
        "b3673061ede241ee98ceae600ec9554e": {
          "model_module": "@jupyter-widgets/controls",
          "model_name": "HTMLModel",
          "model_module_version": "1.5.0",
          "state": {
            "_dom_classes": [],
            "_model_module": "@jupyter-widgets/controls",
            "_model_module_version": "1.5.0",
            "_model_name": "HTMLModel",
            "_view_count": null,
            "_view_module": "@jupyter-widgets/controls",
            "_view_module_version": "1.5.0",
            "_view_name": "HTMLView",
            "description": "",
            "description_tooltip": null,
            "layout": "IPY_MODEL_3511680069624d398b53a994972c74fb",
            "placeholder": "​",
            "style": "IPY_MODEL_e1cc49a1219548c68beb862b6fb9375d",
            "value": "tokenizer_config.json: 100%"
          }
        },
        "a6ddac7e5e454304829956aa4498768f": {
          "model_module": "@jupyter-widgets/controls",
          "model_name": "FloatProgressModel",
          "model_module_version": "1.5.0",
          "state": {
            "_dom_classes": [],
            "_model_module": "@jupyter-widgets/controls",
            "_model_module_version": "1.5.0",
            "_model_name": "FloatProgressModel",
            "_view_count": null,
            "_view_module": "@jupyter-widgets/controls",
            "_view_module_version": "1.5.0",
            "_view_name": "ProgressView",
            "bar_style": "success",
            "description": "",
            "description_tooltip": null,
            "layout": "IPY_MODEL_f6c1007490fd46059313ad02636c1b12",
            "max": 26,
            "min": 0,
            "orientation": "horizontal",
            "style": "IPY_MODEL_b67e8b6bdd8642b9b8bc15bd95b66058",
            "value": 26
          }
        },
        "26946e9d18de4aa58479ef0bda65b516": {
          "model_module": "@jupyter-widgets/controls",
          "model_name": "HTMLModel",
          "model_module_version": "1.5.0",
          "state": {
            "_dom_classes": [],
            "_model_module": "@jupyter-widgets/controls",
            "_model_module_version": "1.5.0",
            "_model_name": "HTMLModel",
            "_view_count": null,
            "_view_module": "@jupyter-widgets/controls",
            "_view_module_version": "1.5.0",
            "_view_name": "HTMLView",
            "description": "",
            "description_tooltip": null,
            "layout": "IPY_MODEL_b64b8478ed8344939946617f863f8a46",
            "placeholder": "​",
            "style": "IPY_MODEL_c242ec0843be4f4bb8730d55b4e17b56",
            "value": " 26.0/26.0 [00:00&lt;00:00, 1.16kB/s]"
          }
        },
        "fd74760849e44d5fa79821d60007636b": {
          "model_module": "@jupyter-widgets/base",
          "model_name": "LayoutModel",
          "model_module_version": "1.2.0",
          "state": {
            "_model_module": "@jupyter-widgets/base",
            "_model_module_version": "1.2.0",
            "_model_name": "LayoutModel",
            "_view_count": null,
            "_view_module": "@jupyter-widgets/base",
            "_view_module_version": "1.2.0",
            "_view_name": "LayoutView",
            "align_content": null,
            "align_items": null,
            "align_self": null,
            "border": null,
            "bottom": null,
            "display": null,
            "flex": null,
            "flex_flow": null,
            "grid_area": null,
            "grid_auto_columns": null,
            "grid_auto_flow": null,
            "grid_auto_rows": null,
            "grid_column": null,
            "grid_gap": null,
            "grid_row": null,
            "grid_template_areas": null,
            "grid_template_columns": null,
            "grid_template_rows": null,
            "height": null,
            "justify_content": null,
            "justify_items": null,
            "left": null,
            "margin": null,
            "max_height": null,
            "max_width": null,
            "min_height": null,
            "min_width": null,
            "object_fit": null,
            "object_position": null,
            "order": null,
            "overflow": null,
            "overflow_x": null,
            "overflow_y": null,
            "padding": null,
            "right": null,
            "top": null,
            "visibility": null,
            "width": null
          }
        },
        "3511680069624d398b53a994972c74fb": {
          "model_module": "@jupyter-widgets/base",
          "model_name": "LayoutModel",
          "model_module_version": "1.2.0",
          "state": {
            "_model_module": "@jupyter-widgets/base",
            "_model_module_version": "1.2.0",
            "_model_name": "LayoutModel",
            "_view_count": null,
            "_view_module": "@jupyter-widgets/base",
            "_view_module_version": "1.2.0",
            "_view_name": "LayoutView",
            "align_content": null,
            "align_items": null,
            "align_self": null,
            "border": null,
            "bottom": null,
            "display": null,
            "flex": null,
            "flex_flow": null,
            "grid_area": null,
            "grid_auto_columns": null,
            "grid_auto_flow": null,
            "grid_auto_rows": null,
            "grid_column": null,
            "grid_gap": null,
            "grid_row": null,
            "grid_template_areas": null,
            "grid_template_columns": null,
            "grid_template_rows": null,
            "height": null,
            "justify_content": null,
            "justify_items": null,
            "left": null,
            "margin": null,
            "max_height": null,
            "max_width": null,
            "min_height": null,
            "min_width": null,
            "object_fit": null,
            "object_position": null,
            "order": null,
            "overflow": null,
            "overflow_x": null,
            "overflow_y": null,
            "padding": null,
            "right": null,
            "top": null,
            "visibility": null,
            "width": null
          }
        },
        "e1cc49a1219548c68beb862b6fb9375d": {
          "model_module": "@jupyter-widgets/controls",
          "model_name": "DescriptionStyleModel",
          "model_module_version": "1.5.0",
          "state": {
            "_model_module": "@jupyter-widgets/controls",
            "_model_module_version": "1.5.0",
            "_model_name": "DescriptionStyleModel",
            "_view_count": null,
            "_view_module": "@jupyter-widgets/base",
            "_view_module_version": "1.2.0",
            "_view_name": "StyleView",
            "description_width": ""
          }
        },
        "f6c1007490fd46059313ad02636c1b12": {
          "model_module": "@jupyter-widgets/base",
          "model_name": "LayoutModel",
          "model_module_version": "1.2.0",
          "state": {
            "_model_module": "@jupyter-widgets/base",
            "_model_module_version": "1.2.0",
            "_model_name": "LayoutModel",
            "_view_count": null,
            "_view_module": "@jupyter-widgets/base",
            "_view_module_version": "1.2.0",
            "_view_name": "LayoutView",
            "align_content": null,
            "align_items": null,
            "align_self": null,
            "border": null,
            "bottom": null,
            "display": null,
            "flex": null,
            "flex_flow": null,
            "grid_area": null,
            "grid_auto_columns": null,
            "grid_auto_flow": null,
            "grid_auto_rows": null,
            "grid_column": null,
            "grid_gap": null,
            "grid_row": null,
            "grid_template_areas": null,
            "grid_template_columns": null,
            "grid_template_rows": null,
            "height": null,
            "justify_content": null,
            "justify_items": null,
            "left": null,
            "margin": null,
            "max_height": null,
            "max_width": null,
            "min_height": null,
            "min_width": null,
            "object_fit": null,
            "object_position": null,
            "order": null,
            "overflow": null,
            "overflow_x": null,
            "overflow_y": null,
            "padding": null,
            "right": null,
            "top": null,
            "visibility": null,
            "width": null
          }
        },
        "b67e8b6bdd8642b9b8bc15bd95b66058": {
          "model_module": "@jupyter-widgets/controls",
          "model_name": "ProgressStyleModel",
          "model_module_version": "1.5.0",
          "state": {
            "_model_module": "@jupyter-widgets/controls",
            "_model_module_version": "1.5.0",
            "_model_name": "ProgressStyleModel",
            "_view_count": null,
            "_view_module": "@jupyter-widgets/base",
            "_view_module_version": "1.2.0",
            "_view_name": "StyleView",
            "bar_color": null,
            "description_width": ""
          }
        },
        "b64b8478ed8344939946617f863f8a46": {
          "model_module": "@jupyter-widgets/base",
          "model_name": "LayoutModel",
          "model_module_version": "1.2.0",
          "state": {
            "_model_module": "@jupyter-widgets/base",
            "_model_module_version": "1.2.0",
            "_model_name": "LayoutModel",
            "_view_count": null,
            "_view_module": "@jupyter-widgets/base",
            "_view_module_version": "1.2.0",
            "_view_name": "LayoutView",
            "align_content": null,
            "align_items": null,
            "align_self": null,
            "border": null,
            "bottom": null,
            "display": null,
            "flex": null,
            "flex_flow": null,
            "grid_area": null,
            "grid_auto_columns": null,
            "grid_auto_flow": null,
            "grid_auto_rows": null,
            "grid_column": null,
            "grid_gap": null,
            "grid_row": null,
            "grid_template_areas": null,
            "grid_template_columns": null,
            "grid_template_rows": null,
            "height": null,
            "justify_content": null,
            "justify_items": null,
            "left": null,
            "margin": null,
            "max_height": null,
            "max_width": null,
            "min_height": null,
            "min_width": null,
            "object_fit": null,
            "object_position": null,
            "order": null,
            "overflow": null,
            "overflow_x": null,
            "overflow_y": null,
            "padding": null,
            "right": null,
            "top": null,
            "visibility": null,
            "width": null
          }
        },
        "c242ec0843be4f4bb8730d55b4e17b56": {
          "model_module": "@jupyter-widgets/controls",
          "model_name": "DescriptionStyleModel",
          "model_module_version": "1.5.0",
          "state": {
            "_model_module": "@jupyter-widgets/controls",
            "_model_module_version": "1.5.0",
            "_model_name": "DescriptionStyleModel",
            "_view_count": null,
            "_view_module": "@jupyter-widgets/base",
            "_view_module_version": "1.2.0",
            "_view_name": "StyleView",
            "description_width": ""
          }
        },
        "9c421b2c589b46ec874191ce5a7f33c9": {
          "model_module": "@jupyter-widgets/controls",
          "model_name": "HBoxModel",
          "model_module_version": "1.5.0",
          "state": {
            "_dom_classes": [],
            "_model_module": "@jupyter-widgets/controls",
            "_model_module_version": "1.5.0",
            "_model_name": "HBoxModel",
            "_view_count": null,
            "_view_module": "@jupyter-widgets/controls",
            "_view_module_version": "1.5.0",
            "_view_name": "HBoxView",
            "box_style": "",
            "children": [
              "IPY_MODEL_7aec8b2429b747d4b867e1e260626daf",
              "IPY_MODEL_089be6e0be56479c9679f43c978370db",
              "IPY_MODEL_cbcd9908a6164c3f905a4fd8f7ff2d07"
            ],
            "layout": "IPY_MODEL_02a0b1208cf742529f661dd88174c8bf"
          }
        },
        "7aec8b2429b747d4b867e1e260626daf": {
          "model_module": "@jupyter-widgets/controls",
          "model_name": "HTMLModel",
          "model_module_version": "1.5.0",
          "state": {
            "_dom_classes": [],
            "_model_module": "@jupyter-widgets/controls",
            "_model_module_version": "1.5.0",
            "_model_name": "HTMLModel",
            "_view_count": null,
            "_view_module": "@jupyter-widgets/controls",
            "_view_module_version": "1.5.0",
            "_view_name": "HTMLView",
            "description": "",
            "description_tooltip": null,
            "layout": "IPY_MODEL_0fa5fd41ae3c4a10bdbdcdc9eeefe8aa",
            "placeholder": "​",
            "style": "IPY_MODEL_d2555194e373410c835863d6da0b40aa",
            "value": "vocab.json: 100%"
          }
        },
        "089be6e0be56479c9679f43c978370db": {
          "model_module": "@jupyter-widgets/controls",
          "model_name": "FloatProgressModel",
          "model_module_version": "1.5.0",
          "state": {
            "_dom_classes": [],
            "_model_module": "@jupyter-widgets/controls",
            "_model_module_version": "1.5.0",
            "_model_name": "FloatProgressModel",
            "_view_count": null,
            "_view_module": "@jupyter-widgets/controls",
            "_view_module_version": "1.5.0",
            "_view_name": "ProgressView",
            "bar_style": "success",
            "description": "",
            "description_tooltip": null,
            "layout": "IPY_MODEL_d747ddbac6184cc9bc7a5484b7a62c94",
            "max": 1042301,
            "min": 0,
            "orientation": "horizontal",
            "style": "IPY_MODEL_4cf3e26e72e04ff09db5573d28dd29a8",
            "value": 1042301
          }
        },
        "cbcd9908a6164c3f905a4fd8f7ff2d07": {
          "model_module": "@jupyter-widgets/controls",
          "model_name": "HTMLModel",
          "model_module_version": "1.5.0",
          "state": {
            "_dom_classes": [],
            "_model_module": "@jupyter-widgets/controls",
            "_model_module_version": "1.5.0",
            "_model_name": "HTMLModel",
            "_view_count": null,
            "_view_module": "@jupyter-widgets/controls",
            "_view_module_version": "1.5.0",
            "_view_name": "HTMLView",
            "description": "",
            "description_tooltip": null,
            "layout": "IPY_MODEL_b000c655ecaa4484a1f2b1acd841b012",
            "placeholder": "​",
            "style": "IPY_MODEL_aecdcab874d84067a076ee94d4b92f22",
            "value": " 1.04M/1.04M [00:00&lt;00:00, 3.68MB/s]"
          }
        },
        "02a0b1208cf742529f661dd88174c8bf": {
          "model_module": "@jupyter-widgets/base",
          "model_name": "LayoutModel",
          "model_module_version": "1.2.0",
          "state": {
            "_model_module": "@jupyter-widgets/base",
            "_model_module_version": "1.2.0",
            "_model_name": "LayoutModel",
            "_view_count": null,
            "_view_module": "@jupyter-widgets/base",
            "_view_module_version": "1.2.0",
            "_view_name": "LayoutView",
            "align_content": null,
            "align_items": null,
            "align_self": null,
            "border": null,
            "bottom": null,
            "display": null,
            "flex": null,
            "flex_flow": null,
            "grid_area": null,
            "grid_auto_columns": null,
            "grid_auto_flow": null,
            "grid_auto_rows": null,
            "grid_column": null,
            "grid_gap": null,
            "grid_row": null,
            "grid_template_areas": null,
            "grid_template_columns": null,
            "grid_template_rows": null,
            "height": null,
            "justify_content": null,
            "justify_items": null,
            "left": null,
            "margin": null,
            "max_height": null,
            "max_width": null,
            "min_height": null,
            "min_width": null,
            "object_fit": null,
            "object_position": null,
            "order": null,
            "overflow": null,
            "overflow_x": null,
            "overflow_y": null,
            "padding": null,
            "right": null,
            "top": null,
            "visibility": null,
            "width": null
          }
        },
        "0fa5fd41ae3c4a10bdbdcdc9eeefe8aa": {
          "model_module": "@jupyter-widgets/base",
          "model_name": "LayoutModel",
          "model_module_version": "1.2.0",
          "state": {
            "_model_module": "@jupyter-widgets/base",
            "_model_module_version": "1.2.0",
            "_model_name": "LayoutModel",
            "_view_count": null,
            "_view_module": "@jupyter-widgets/base",
            "_view_module_version": "1.2.0",
            "_view_name": "LayoutView",
            "align_content": null,
            "align_items": null,
            "align_self": null,
            "border": null,
            "bottom": null,
            "display": null,
            "flex": null,
            "flex_flow": null,
            "grid_area": null,
            "grid_auto_columns": null,
            "grid_auto_flow": null,
            "grid_auto_rows": null,
            "grid_column": null,
            "grid_gap": null,
            "grid_row": null,
            "grid_template_areas": null,
            "grid_template_columns": null,
            "grid_template_rows": null,
            "height": null,
            "justify_content": null,
            "justify_items": null,
            "left": null,
            "margin": null,
            "max_height": null,
            "max_width": null,
            "min_height": null,
            "min_width": null,
            "object_fit": null,
            "object_position": null,
            "order": null,
            "overflow": null,
            "overflow_x": null,
            "overflow_y": null,
            "padding": null,
            "right": null,
            "top": null,
            "visibility": null,
            "width": null
          }
        },
        "d2555194e373410c835863d6da0b40aa": {
          "model_module": "@jupyter-widgets/controls",
          "model_name": "DescriptionStyleModel",
          "model_module_version": "1.5.0",
          "state": {
            "_model_module": "@jupyter-widgets/controls",
            "_model_module_version": "1.5.0",
            "_model_name": "DescriptionStyleModel",
            "_view_count": null,
            "_view_module": "@jupyter-widgets/base",
            "_view_module_version": "1.2.0",
            "_view_name": "StyleView",
            "description_width": ""
          }
        },
        "d747ddbac6184cc9bc7a5484b7a62c94": {
          "model_module": "@jupyter-widgets/base",
          "model_name": "LayoutModel",
          "model_module_version": "1.2.0",
          "state": {
            "_model_module": "@jupyter-widgets/base",
            "_model_module_version": "1.2.0",
            "_model_name": "LayoutModel",
            "_view_count": null,
            "_view_module": "@jupyter-widgets/base",
            "_view_module_version": "1.2.0",
            "_view_name": "LayoutView",
            "align_content": null,
            "align_items": null,
            "align_self": null,
            "border": null,
            "bottom": null,
            "display": null,
            "flex": null,
            "flex_flow": null,
            "grid_area": null,
            "grid_auto_columns": null,
            "grid_auto_flow": null,
            "grid_auto_rows": null,
            "grid_column": null,
            "grid_gap": null,
            "grid_row": null,
            "grid_template_areas": null,
            "grid_template_columns": null,
            "grid_template_rows": null,
            "height": null,
            "justify_content": null,
            "justify_items": null,
            "left": null,
            "margin": null,
            "max_height": null,
            "max_width": null,
            "min_height": null,
            "min_width": null,
            "object_fit": null,
            "object_position": null,
            "order": null,
            "overflow": null,
            "overflow_x": null,
            "overflow_y": null,
            "padding": null,
            "right": null,
            "top": null,
            "visibility": null,
            "width": null
          }
        },
        "4cf3e26e72e04ff09db5573d28dd29a8": {
          "model_module": "@jupyter-widgets/controls",
          "model_name": "ProgressStyleModel",
          "model_module_version": "1.5.0",
          "state": {
            "_model_module": "@jupyter-widgets/controls",
            "_model_module_version": "1.5.0",
            "_model_name": "ProgressStyleModel",
            "_view_count": null,
            "_view_module": "@jupyter-widgets/base",
            "_view_module_version": "1.2.0",
            "_view_name": "StyleView",
            "bar_color": null,
            "description_width": ""
          }
        },
        "b000c655ecaa4484a1f2b1acd841b012": {
          "model_module": "@jupyter-widgets/base",
          "model_name": "LayoutModel",
          "model_module_version": "1.2.0",
          "state": {
            "_model_module": "@jupyter-widgets/base",
            "_model_module_version": "1.2.0",
            "_model_name": "LayoutModel",
            "_view_count": null,
            "_view_module": "@jupyter-widgets/base",
            "_view_module_version": "1.2.0",
            "_view_name": "LayoutView",
            "align_content": null,
            "align_items": null,
            "align_self": null,
            "border": null,
            "bottom": null,
            "display": null,
            "flex": null,
            "flex_flow": null,
            "grid_area": null,
            "grid_auto_columns": null,
            "grid_auto_flow": null,
            "grid_auto_rows": null,
            "grid_column": null,
            "grid_gap": null,
            "grid_row": null,
            "grid_template_areas": null,
            "grid_template_columns": null,
            "grid_template_rows": null,
            "height": null,
            "justify_content": null,
            "justify_items": null,
            "left": null,
            "margin": null,
            "max_height": null,
            "max_width": null,
            "min_height": null,
            "min_width": null,
            "object_fit": null,
            "object_position": null,
            "order": null,
            "overflow": null,
            "overflow_x": null,
            "overflow_y": null,
            "padding": null,
            "right": null,
            "top": null,
            "visibility": null,
            "width": null
          }
        },
        "aecdcab874d84067a076ee94d4b92f22": {
          "model_module": "@jupyter-widgets/controls",
          "model_name": "DescriptionStyleModel",
          "model_module_version": "1.5.0",
          "state": {
            "_model_module": "@jupyter-widgets/controls",
            "_model_module_version": "1.5.0",
            "_model_name": "DescriptionStyleModel",
            "_view_count": null,
            "_view_module": "@jupyter-widgets/base",
            "_view_module_version": "1.2.0",
            "_view_name": "StyleView",
            "description_width": ""
          }
        },
        "6259e7808cd4453f8dca5110f18b36d3": {
          "model_module": "@jupyter-widgets/controls",
          "model_name": "HBoxModel",
          "model_module_version": "1.5.0",
          "state": {
            "_dom_classes": [],
            "_model_module": "@jupyter-widgets/controls",
            "_model_module_version": "1.5.0",
            "_model_name": "HBoxModel",
            "_view_count": null,
            "_view_module": "@jupyter-widgets/controls",
            "_view_module_version": "1.5.0",
            "_view_name": "HBoxView",
            "box_style": "",
            "children": [
              "IPY_MODEL_cce43f6ef12b4d5e9d2f68dee361a5c5",
              "IPY_MODEL_92a7f6beadf242c9a2db6325d4f1f373",
              "IPY_MODEL_68e1d8c12a8447ddb16c24457e0e8f64"
            ],
            "layout": "IPY_MODEL_5200dae236824529bb20d0bd496abb1f"
          }
        },
        "cce43f6ef12b4d5e9d2f68dee361a5c5": {
          "model_module": "@jupyter-widgets/controls",
          "model_name": "HTMLModel",
          "model_module_version": "1.5.0",
          "state": {
            "_dom_classes": [],
            "_model_module": "@jupyter-widgets/controls",
            "_model_module_version": "1.5.0",
            "_model_name": "HTMLModel",
            "_view_count": null,
            "_view_module": "@jupyter-widgets/controls",
            "_view_module_version": "1.5.0",
            "_view_name": "HTMLView",
            "description": "",
            "description_tooltip": null,
            "layout": "IPY_MODEL_b4e7823990f64aca97dd073f05f68ed3",
            "placeholder": "​",
            "style": "IPY_MODEL_520bd3d4692e4fff95a4e1e7410cf75d",
            "value": "merges.txt: 100%"
          }
        },
        "92a7f6beadf242c9a2db6325d4f1f373": {
          "model_module": "@jupyter-widgets/controls",
          "model_name": "FloatProgressModel",
          "model_module_version": "1.5.0",
          "state": {
            "_dom_classes": [],
            "_model_module": "@jupyter-widgets/controls",
            "_model_module_version": "1.5.0",
            "_model_name": "FloatProgressModel",
            "_view_count": null,
            "_view_module": "@jupyter-widgets/controls",
            "_view_module_version": "1.5.0",
            "_view_name": "ProgressView",
            "bar_style": "success",
            "description": "",
            "description_tooltip": null,
            "layout": "IPY_MODEL_4f95a0d8f42040038c400f132bc5e937",
            "max": 456318,
            "min": 0,
            "orientation": "horizontal",
            "style": "IPY_MODEL_2e53e2d15ce64216ae86682172fd90b9",
            "value": 456318
          }
        },
        "68e1d8c12a8447ddb16c24457e0e8f64": {
          "model_module": "@jupyter-widgets/controls",
          "model_name": "HTMLModel",
          "model_module_version": "1.5.0",
          "state": {
            "_dom_classes": [],
            "_model_module": "@jupyter-widgets/controls",
            "_model_module_version": "1.5.0",
            "_model_name": "HTMLModel",
            "_view_count": null,
            "_view_module": "@jupyter-widgets/controls",
            "_view_module_version": "1.5.0",
            "_view_name": "HTMLView",
            "description": "",
            "description_tooltip": null,
            "layout": "IPY_MODEL_ae847f1cfe5d4e56bf5915825c512544",
            "placeholder": "​",
            "style": "IPY_MODEL_df0a0db7ff7448449be49a3bc7212063",
            "value": " 456k/456k [00:00&lt;00:00, 1.97MB/s]"
          }
        },
        "5200dae236824529bb20d0bd496abb1f": {
          "model_module": "@jupyter-widgets/base",
          "model_name": "LayoutModel",
          "model_module_version": "1.2.0",
          "state": {
            "_model_module": "@jupyter-widgets/base",
            "_model_module_version": "1.2.0",
            "_model_name": "LayoutModel",
            "_view_count": null,
            "_view_module": "@jupyter-widgets/base",
            "_view_module_version": "1.2.0",
            "_view_name": "LayoutView",
            "align_content": null,
            "align_items": null,
            "align_self": null,
            "border": null,
            "bottom": null,
            "display": null,
            "flex": null,
            "flex_flow": null,
            "grid_area": null,
            "grid_auto_columns": null,
            "grid_auto_flow": null,
            "grid_auto_rows": null,
            "grid_column": null,
            "grid_gap": null,
            "grid_row": null,
            "grid_template_areas": null,
            "grid_template_columns": null,
            "grid_template_rows": null,
            "height": null,
            "justify_content": null,
            "justify_items": null,
            "left": null,
            "margin": null,
            "max_height": null,
            "max_width": null,
            "min_height": null,
            "min_width": null,
            "object_fit": null,
            "object_position": null,
            "order": null,
            "overflow": null,
            "overflow_x": null,
            "overflow_y": null,
            "padding": null,
            "right": null,
            "top": null,
            "visibility": null,
            "width": null
          }
        },
        "b4e7823990f64aca97dd073f05f68ed3": {
          "model_module": "@jupyter-widgets/base",
          "model_name": "LayoutModel",
          "model_module_version": "1.2.0",
          "state": {
            "_model_module": "@jupyter-widgets/base",
            "_model_module_version": "1.2.0",
            "_model_name": "LayoutModel",
            "_view_count": null,
            "_view_module": "@jupyter-widgets/base",
            "_view_module_version": "1.2.0",
            "_view_name": "LayoutView",
            "align_content": null,
            "align_items": null,
            "align_self": null,
            "border": null,
            "bottom": null,
            "display": null,
            "flex": null,
            "flex_flow": null,
            "grid_area": null,
            "grid_auto_columns": null,
            "grid_auto_flow": null,
            "grid_auto_rows": null,
            "grid_column": null,
            "grid_gap": null,
            "grid_row": null,
            "grid_template_areas": null,
            "grid_template_columns": null,
            "grid_template_rows": null,
            "height": null,
            "justify_content": null,
            "justify_items": null,
            "left": null,
            "margin": null,
            "max_height": null,
            "max_width": null,
            "min_height": null,
            "min_width": null,
            "object_fit": null,
            "object_position": null,
            "order": null,
            "overflow": null,
            "overflow_x": null,
            "overflow_y": null,
            "padding": null,
            "right": null,
            "top": null,
            "visibility": null,
            "width": null
          }
        },
        "520bd3d4692e4fff95a4e1e7410cf75d": {
          "model_module": "@jupyter-widgets/controls",
          "model_name": "DescriptionStyleModel",
          "model_module_version": "1.5.0",
          "state": {
            "_model_module": "@jupyter-widgets/controls",
            "_model_module_version": "1.5.0",
            "_model_name": "DescriptionStyleModel",
            "_view_count": null,
            "_view_module": "@jupyter-widgets/base",
            "_view_module_version": "1.2.0",
            "_view_name": "StyleView",
            "description_width": ""
          }
        },
        "4f95a0d8f42040038c400f132bc5e937": {
          "model_module": "@jupyter-widgets/base",
          "model_name": "LayoutModel",
          "model_module_version": "1.2.0",
          "state": {
            "_model_module": "@jupyter-widgets/base",
            "_model_module_version": "1.2.0",
            "_model_name": "LayoutModel",
            "_view_count": null,
            "_view_module": "@jupyter-widgets/base",
            "_view_module_version": "1.2.0",
            "_view_name": "LayoutView",
            "align_content": null,
            "align_items": null,
            "align_self": null,
            "border": null,
            "bottom": null,
            "display": null,
            "flex": null,
            "flex_flow": null,
            "grid_area": null,
            "grid_auto_columns": null,
            "grid_auto_flow": null,
            "grid_auto_rows": null,
            "grid_column": null,
            "grid_gap": null,
            "grid_row": null,
            "grid_template_areas": null,
            "grid_template_columns": null,
            "grid_template_rows": null,
            "height": null,
            "justify_content": null,
            "justify_items": null,
            "left": null,
            "margin": null,
            "max_height": null,
            "max_width": null,
            "min_height": null,
            "min_width": null,
            "object_fit": null,
            "object_position": null,
            "order": null,
            "overflow": null,
            "overflow_x": null,
            "overflow_y": null,
            "padding": null,
            "right": null,
            "top": null,
            "visibility": null,
            "width": null
          }
        },
        "2e53e2d15ce64216ae86682172fd90b9": {
          "model_module": "@jupyter-widgets/controls",
          "model_name": "ProgressStyleModel",
          "model_module_version": "1.5.0",
          "state": {
            "_model_module": "@jupyter-widgets/controls",
            "_model_module_version": "1.5.0",
            "_model_name": "ProgressStyleModel",
            "_view_count": null,
            "_view_module": "@jupyter-widgets/base",
            "_view_module_version": "1.2.0",
            "_view_name": "StyleView",
            "bar_color": null,
            "description_width": ""
          }
        },
        "ae847f1cfe5d4e56bf5915825c512544": {
          "model_module": "@jupyter-widgets/base",
          "model_name": "LayoutModel",
          "model_module_version": "1.2.0",
          "state": {
            "_model_module": "@jupyter-widgets/base",
            "_model_module_version": "1.2.0",
            "_model_name": "LayoutModel",
            "_view_count": null,
            "_view_module": "@jupyter-widgets/base",
            "_view_module_version": "1.2.0",
            "_view_name": "LayoutView",
            "align_content": null,
            "align_items": null,
            "align_self": null,
            "border": null,
            "bottom": null,
            "display": null,
            "flex": null,
            "flex_flow": null,
            "grid_area": null,
            "grid_auto_columns": null,
            "grid_auto_flow": null,
            "grid_auto_rows": null,
            "grid_column": null,
            "grid_gap": null,
            "grid_row": null,
            "grid_template_areas": null,
            "grid_template_columns": null,
            "grid_template_rows": null,
            "height": null,
            "justify_content": null,
            "justify_items": null,
            "left": null,
            "margin": null,
            "max_height": null,
            "max_width": null,
            "min_height": null,
            "min_width": null,
            "object_fit": null,
            "object_position": null,
            "order": null,
            "overflow": null,
            "overflow_x": null,
            "overflow_y": null,
            "padding": null,
            "right": null,
            "top": null,
            "visibility": null,
            "width": null
          }
        },
        "df0a0db7ff7448449be49a3bc7212063": {
          "model_module": "@jupyter-widgets/controls",
          "model_name": "DescriptionStyleModel",
          "model_module_version": "1.5.0",
          "state": {
            "_model_module": "@jupyter-widgets/controls",
            "_model_module_version": "1.5.0",
            "_model_name": "DescriptionStyleModel",
            "_view_count": null,
            "_view_module": "@jupyter-widgets/base",
            "_view_module_version": "1.2.0",
            "_view_name": "StyleView",
            "description_width": ""
          }
        },
        "dca89008bbf34b78aab72cc73bc6bd19": {
          "model_module": "@jupyter-widgets/controls",
          "model_name": "HBoxModel",
          "model_module_version": "1.5.0",
          "state": {
            "_dom_classes": [],
            "_model_module": "@jupyter-widgets/controls",
            "_model_module_version": "1.5.0",
            "_model_name": "HBoxModel",
            "_view_count": null,
            "_view_module": "@jupyter-widgets/controls",
            "_view_module_version": "1.5.0",
            "_view_name": "HBoxView",
            "box_style": "",
            "children": [
              "IPY_MODEL_824f81154dae4c6f93ad19a1f8510777",
              "IPY_MODEL_eb2e266f638248388fa15d1a4cf060dd",
              "IPY_MODEL_8ebe6ff672c641d78a9f154371e698ea"
            ],
            "layout": "IPY_MODEL_e00f9fb71ab0425688644e5c0d15477e"
          }
        },
        "824f81154dae4c6f93ad19a1f8510777": {
          "model_module": "@jupyter-widgets/controls",
          "model_name": "HTMLModel",
          "model_module_version": "1.5.0",
          "state": {
            "_dom_classes": [],
            "_model_module": "@jupyter-widgets/controls",
            "_model_module_version": "1.5.0",
            "_model_name": "HTMLModel",
            "_view_count": null,
            "_view_module": "@jupyter-widgets/controls",
            "_view_module_version": "1.5.0",
            "_view_name": "HTMLView",
            "description": "",
            "description_tooltip": null,
            "layout": "IPY_MODEL_920c83544a324d18a6143d172ada7917",
            "placeholder": "​",
            "style": "IPY_MODEL_8e8a3d6a8c4447d4ae0dbee5f8641d76",
            "value": "tokenizer.json: 100%"
          }
        },
        "eb2e266f638248388fa15d1a4cf060dd": {
          "model_module": "@jupyter-widgets/controls",
          "model_name": "FloatProgressModel",
          "model_module_version": "1.5.0",
          "state": {
            "_dom_classes": [],
            "_model_module": "@jupyter-widgets/controls",
            "_model_module_version": "1.5.0",
            "_model_name": "FloatProgressModel",
            "_view_count": null,
            "_view_module": "@jupyter-widgets/controls",
            "_view_module_version": "1.5.0",
            "_view_name": "ProgressView",
            "bar_style": "success",
            "description": "",
            "description_tooltip": null,
            "layout": "IPY_MODEL_d44dc88f1fac45bd9580d7ed39117363",
            "max": 1355256,
            "min": 0,
            "orientation": "horizontal",
            "style": "IPY_MODEL_cd9620c12b5649aa8ffc933af37942f3",
            "value": 1355256
          }
        },
        "8ebe6ff672c641d78a9f154371e698ea": {
          "model_module": "@jupyter-widgets/controls",
          "model_name": "HTMLModel",
          "model_module_version": "1.5.0",
          "state": {
            "_dom_classes": [],
            "_model_module": "@jupyter-widgets/controls",
            "_model_module_version": "1.5.0",
            "_model_name": "HTMLModel",
            "_view_count": null,
            "_view_module": "@jupyter-widgets/controls",
            "_view_module_version": "1.5.0",
            "_view_name": "HTMLView",
            "description": "",
            "description_tooltip": null,
            "layout": "IPY_MODEL_f1a67fa1fd544aedb9edc162cee53734",
            "placeholder": "​",
            "style": "IPY_MODEL_eba9891c2b1948e39175b8d76804f807",
            "value": " 1.36M/1.36M [00:00&lt;00:00, 1.96MB/s]"
          }
        },
        "e00f9fb71ab0425688644e5c0d15477e": {
          "model_module": "@jupyter-widgets/base",
          "model_name": "LayoutModel",
          "model_module_version": "1.2.0",
          "state": {
            "_model_module": "@jupyter-widgets/base",
            "_model_module_version": "1.2.0",
            "_model_name": "LayoutModel",
            "_view_count": null,
            "_view_module": "@jupyter-widgets/base",
            "_view_module_version": "1.2.0",
            "_view_name": "LayoutView",
            "align_content": null,
            "align_items": null,
            "align_self": null,
            "border": null,
            "bottom": null,
            "display": null,
            "flex": null,
            "flex_flow": null,
            "grid_area": null,
            "grid_auto_columns": null,
            "grid_auto_flow": null,
            "grid_auto_rows": null,
            "grid_column": null,
            "grid_gap": null,
            "grid_row": null,
            "grid_template_areas": null,
            "grid_template_columns": null,
            "grid_template_rows": null,
            "height": null,
            "justify_content": null,
            "justify_items": null,
            "left": null,
            "margin": null,
            "max_height": null,
            "max_width": null,
            "min_height": null,
            "min_width": null,
            "object_fit": null,
            "object_position": null,
            "order": null,
            "overflow": null,
            "overflow_x": null,
            "overflow_y": null,
            "padding": null,
            "right": null,
            "top": null,
            "visibility": null,
            "width": null
          }
        },
        "920c83544a324d18a6143d172ada7917": {
          "model_module": "@jupyter-widgets/base",
          "model_name": "LayoutModel",
          "model_module_version": "1.2.0",
          "state": {
            "_model_module": "@jupyter-widgets/base",
            "_model_module_version": "1.2.0",
            "_model_name": "LayoutModel",
            "_view_count": null,
            "_view_module": "@jupyter-widgets/base",
            "_view_module_version": "1.2.0",
            "_view_name": "LayoutView",
            "align_content": null,
            "align_items": null,
            "align_self": null,
            "border": null,
            "bottom": null,
            "display": null,
            "flex": null,
            "flex_flow": null,
            "grid_area": null,
            "grid_auto_columns": null,
            "grid_auto_flow": null,
            "grid_auto_rows": null,
            "grid_column": null,
            "grid_gap": null,
            "grid_row": null,
            "grid_template_areas": null,
            "grid_template_columns": null,
            "grid_template_rows": null,
            "height": null,
            "justify_content": null,
            "justify_items": null,
            "left": null,
            "margin": null,
            "max_height": null,
            "max_width": null,
            "min_height": null,
            "min_width": null,
            "object_fit": null,
            "object_position": null,
            "order": null,
            "overflow": null,
            "overflow_x": null,
            "overflow_y": null,
            "padding": null,
            "right": null,
            "top": null,
            "visibility": null,
            "width": null
          }
        },
        "8e8a3d6a8c4447d4ae0dbee5f8641d76": {
          "model_module": "@jupyter-widgets/controls",
          "model_name": "DescriptionStyleModel",
          "model_module_version": "1.5.0",
          "state": {
            "_model_module": "@jupyter-widgets/controls",
            "_model_module_version": "1.5.0",
            "_model_name": "DescriptionStyleModel",
            "_view_count": null,
            "_view_module": "@jupyter-widgets/base",
            "_view_module_version": "1.2.0",
            "_view_name": "StyleView",
            "description_width": ""
          }
        },
        "d44dc88f1fac45bd9580d7ed39117363": {
          "model_module": "@jupyter-widgets/base",
          "model_name": "LayoutModel",
          "model_module_version": "1.2.0",
          "state": {
            "_model_module": "@jupyter-widgets/base",
            "_model_module_version": "1.2.0",
            "_model_name": "LayoutModel",
            "_view_count": null,
            "_view_module": "@jupyter-widgets/base",
            "_view_module_version": "1.2.0",
            "_view_name": "LayoutView",
            "align_content": null,
            "align_items": null,
            "align_self": null,
            "border": null,
            "bottom": null,
            "display": null,
            "flex": null,
            "flex_flow": null,
            "grid_area": null,
            "grid_auto_columns": null,
            "grid_auto_flow": null,
            "grid_auto_rows": null,
            "grid_column": null,
            "grid_gap": null,
            "grid_row": null,
            "grid_template_areas": null,
            "grid_template_columns": null,
            "grid_template_rows": null,
            "height": null,
            "justify_content": null,
            "justify_items": null,
            "left": null,
            "margin": null,
            "max_height": null,
            "max_width": null,
            "min_height": null,
            "min_width": null,
            "object_fit": null,
            "object_position": null,
            "order": null,
            "overflow": null,
            "overflow_x": null,
            "overflow_y": null,
            "padding": null,
            "right": null,
            "top": null,
            "visibility": null,
            "width": null
          }
        },
        "cd9620c12b5649aa8ffc933af37942f3": {
          "model_module": "@jupyter-widgets/controls",
          "model_name": "ProgressStyleModel",
          "model_module_version": "1.5.0",
          "state": {
            "_model_module": "@jupyter-widgets/controls",
            "_model_module_version": "1.5.0",
            "_model_name": "ProgressStyleModel",
            "_view_count": null,
            "_view_module": "@jupyter-widgets/base",
            "_view_module_version": "1.2.0",
            "_view_name": "StyleView",
            "bar_color": null,
            "description_width": ""
          }
        },
        "f1a67fa1fd544aedb9edc162cee53734": {
          "model_module": "@jupyter-widgets/base",
          "model_name": "LayoutModel",
          "model_module_version": "1.2.0",
          "state": {
            "_model_module": "@jupyter-widgets/base",
            "_model_module_version": "1.2.0",
            "_model_name": "LayoutModel",
            "_view_count": null,
            "_view_module": "@jupyter-widgets/base",
            "_view_module_version": "1.2.0",
            "_view_name": "LayoutView",
            "align_content": null,
            "align_items": null,
            "align_self": null,
            "border": null,
            "bottom": null,
            "display": null,
            "flex": null,
            "flex_flow": null,
            "grid_area": null,
            "grid_auto_columns": null,
            "grid_auto_flow": null,
            "grid_auto_rows": null,
            "grid_column": null,
            "grid_gap": null,
            "grid_row": null,
            "grid_template_areas": null,
            "grid_template_columns": null,
            "grid_template_rows": null,
            "height": null,
            "justify_content": null,
            "justify_items": null,
            "left": null,
            "margin": null,
            "max_height": null,
            "max_width": null,
            "min_height": null,
            "min_width": null,
            "object_fit": null,
            "object_position": null,
            "order": null,
            "overflow": null,
            "overflow_x": null,
            "overflow_y": null,
            "padding": null,
            "right": null,
            "top": null,
            "visibility": null,
            "width": null
          }
        },
        "eba9891c2b1948e39175b8d76804f807": {
          "model_module": "@jupyter-widgets/controls",
          "model_name": "DescriptionStyleModel",
          "model_module_version": "1.5.0",
          "state": {
            "_model_module": "@jupyter-widgets/controls",
            "_model_module_version": "1.5.0",
            "_model_name": "DescriptionStyleModel",
            "_view_count": null,
            "_view_module": "@jupyter-widgets/base",
            "_view_module_version": "1.2.0",
            "_view_name": "StyleView",
            "description_width": ""
          }
        },
        "c801c24592f547c2b6134425ca9b1830": {
          "model_module": "@jupyter-widgets/controls",
          "model_name": "HBoxModel",
          "model_module_version": "1.5.0",
          "state": {
            "_dom_classes": [],
            "_model_module": "@jupyter-widgets/controls",
            "_model_module_version": "1.5.0",
            "_model_name": "HBoxModel",
            "_view_count": null,
            "_view_module": "@jupyter-widgets/controls",
            "_view_module_version": "1.5.0",
            "_view_name": "HBoxView",
            "box_style": "",
            "children": [
              "IPY_MODEL_0360f9bc6f8248018d86d66099ceed44",
              "IPY_MODEL_ced553ccdb6d4d9981622a492f99063c",
              "IPY_MODEL_ba0fa94509564794befc5c02b9a28d90"
            ],
            "layout": "IPY_MODEL_452bfeb496534cbfadd267075bb79d17"
          }
        },
        "0360f9bc6f8248018d86d66099ceed44": {
          "model_module": "@jupyter-widgets/controls",
          "model_name": "HTMLModel",
          "model_module_version": "1.5.0",
          "state": {
            "_dom_classes": [],
            "_model_module": "@jupyter-widgets/controls",
            "_model_module_version": "1.5.0",
            "_model_name": "HTMLModel",
            "_view_count": null,
            "_view_module": "@jupyter-widgets/controls",
            "_view_module_version": "1.5.0",
            "_view_name": "HTMLView",
            "description": "",
            "description_tooltip": null,
            "layout": "IPY_MODEL_2f5c91efad9e497d953ea5dc2fd9b848",
            "placeholder": "​",
            "style": "IPY_MODEL_7e55e875316f49e39545a9ca73a76efc",
            "value": "config.json: 100%"
          }
        },
        "ced553ccdb6d4d9981622a492f99063c": {
          "model_module": "@jupyter-widgets/controls",
          "model_name": "FloatProgressModel",
          "model_module_version": "1.5.0",
          "state": {
            "_dom_classes": [],
            "_model_module": "@jupyter-widgets/controls",
            "_model_module_version": "1.5.0",
            "_model_name": "FloatProgressModel",
            "_view_count": null,
            "_view_module": "@jupyter-widgets/controls",
            "_view_module_version": "1.5.0",
            "_view_name": "ProgressView",
            "bar_style": "success",
            "description": "",
            "description_tooltip": null,
            "layout": "IPY_MODEL_bb7c03bad7ab4088ad703ec00b6aa690",
            "max": 665,
            "min": 0,
            "orientation": "horizontal",
            "style": "IPY_MODEL_7ad1594defd74470890246941a6afee9",
            "value": 665
          }
        },
        "ba0fa94509564794befc5c02b9a28d90": {
          "model_module": "@jupyter-widgets/controls",
          "model_name": "HTMLModel",
          "model_module_version": "1.5.0",
          "state": {
            "_dom_classes": [],
            "_model_module": "@jupyter-widgets/controls",
            "_model_module_version": "1.5.0",
            "_model_name": "HTMLModel",
            "_view_count": null,
            "_view_module": "@jupyter-widgets/controls",
            "_view_module_version": "1.5.0",
            "_view_name": "HTMLView",
            "description": "",
            "description_tooltip": null,
            "layout": "IPY_MODEL_44748ab3752a48e3884df898b9fc064f",
            "placeholder": "​",
            "style": "IPY_MODEL_f03d7dd3bffb42f4b4467d7a68c05140",
            "value": " 665/665 [00:00&lt;00:00, 51.0kB/s]"
          }
        },
        "452bfeb496534cbfadd267075bb79d17": {
          "model_module": "@jupyter-widgets/base",
          "model_name": "LayoutModel",
          "model_module_version": "1.2.0",
          "state": {
            "_model_module": "@jupyter-widgets/base",
            "_model_module_version": "1.2.0",
            "_model_name": "LayoutModel",
            "_view_count": null,
            "_view_module": "@jupyter-widgets/base",
            "_view_module_version": "1.2.0",
            "_view_name": "LayoutView",
            "align_content": null,
            "align_items": null,
            "align_self": null,
            "border": null,
            "bottom": null,
            "display": null,
            "flex": null,
            "flex_flow": null,
            "grid_area": null,
            "grid_auto_columns": null,
            "grid_auto_flow": null,
            "grid_auto_rows": null,
            "grid_column": null,
            "grid_gap": null,
            "grid_row": null,
            "grid_template_areas": null,
            "grid_template_columns": null,
            "grid_template_rows": null,
            "height": null,
            "justify_content": null,
            "justify_items": null,
            "left": null,
            "margin": null,
            "max_height": null,
            "max_width": null,
            "min_height": null,
            "min_width": null,
            "object_fit": null,
            "object_position": null,
            "order": null,
            "overflow": null,
            "overflow_x": null,
            "overflow_y": null,
            "padding": null,
            "right": null,
            "top": null,
            "visibility": null,
            "width": null
          }
        },
        "2f5c91efad9e497d953ea5dc2fd9b848": {
          "model_module": "@jupyter-widgets/base",
          "model_name": "LayoutModel",
          "model_module_version": "1.2.0",
          "state": {
            "_model_module": "@jupyter-widgets/base",
            "_model_module_version": "1.2.0",
            "_model_name": "LayoutModel",
            "_view_count": null,
            "_view_module": "@jupyter-widgets/base",
            "_view_module_version": "1.2.0",
            "_view_name": "LayoutView",
            "align_content": null,
            "align_items": null,
            "align_self": null,
            "border": null,
            "bottom": null,
            "display": null,
            "flex": null,
            "flex_flow": null,
            "grid_area": null,
            "grid_auto_columns": null,
            "grid_auto_flow": null,
            "grid_auto_rows": null,
            "grid_column": null,
            "grid_gap": null,
            "grid_row": null,
            "grid_template_areas": null,
            "grid_template_columns": null,
            "grid_template_rows": null,
            "height": null,
            "justify_content": null,
            "justify_items": null,
            "left": null,
            "margin": null,
            "max_height": null,
            "max_width": null,
            "min_height": null,
            "min_width": null,
            "object_fit": null,
            "object_position": null,
            "order": null,
            "overflow": null,
            "overflow_x": null,
            "overflow_y": null,
            "padding": null,
            "right": null,
            "top": null,
            "visibility": null,
            "width": null
          }
        },
        "7e55e875316f49e39545a9ca73a76efc": {
          "model_module": "@jupyter-widgets/controls",
          "model_name": "DescriptionStyleModel",
          "model_module_version": "1.5.0",
          "state": {
            "_model_module": "@jupyter-widgets/controls",
            "_model_module_version": "1.5.0",
            "_model_name": "DescriptionStyleModel",
            "_view_count": null,
            "_view_module": "@jupyter-widgets/base",
            "_view_module_version": "1.2.0",
            "_view_name": "StyleView",
            "description_width": ""
          }
        },
        "bb7c03bad7ab4088ad703ec00b6aa690": {
          "model_module": "@jupyter-widgets/base",
          "model_name": "LayoutModel",
          "model_module_version": "1.2.0",
          "state": {
            "_model_module": "@jupyter-widgets/base",
            "_model_module_version": "1.2.0",
            "_model_name": "LayoutModel",
            "_view_count": null,
            "_view_module": "@jupyter-widgets/base",
            "_view_module_version": "1.2.0",
            "_view_name": "LayoutView",
            "align_content": null,
            "align_items": null,
            "align_self": null,
            "border": null,
            "bottom": null,
            "display": null,
            "flex": null,
            "flex_flow": null,
            "grid_area": null,
            "grid_auto_columns": null,
            "grid_auto_flow": null,
            "grid_auto_rows": null,
            "grid_column": null,
            "grid_gap": null,
            "grid_row": null,
            "grid_template_areas": null,
            "grid_template_columns": null,
            "grid_template_rows": null,
            "height": null,
            "justify_content": null,
            "justify_items": null,
            "left": null,
            "margin": null,
            "max_height": null,
            "max_width": null,
            "min_height": null,
            "min_width": null,
            "object_fit": null,
            "object_position": null,
            "order": null,
            "overflow": null,
            "overflow_x": null,
            "overflow_y": null,
            "padding": null,
            "right": null,
            "top": null,
            "visibility": null,
            "width": null
          }
        },
        "7ad1594defd74470890246941a6afee9": {
          "model_module": "@jupyter-widgets/controls",
          "model_name": "ProgressStyleModel",
          "model_module_version": "1.5.0",
          "state": {
            "_model_module": "@jupyter-widgets/controls",
            "_model_module_version": "1.5.0",
            "_model_name": "ProgressStyleModel",
            "_view_count": null,
            "_view_module": "@jupyter-widgets/base",
            "_view_module_version": "1.2.0",
            "_view_name": "StyleView",
            "bar_color": null,
            "description_width": ""
          }
        },
        "44748ab3752a48e3884df898b9fc064f": {
          "model_module": "@jupyter-widgets/base",
          "model_name": "LayoutModel",
          "model_module_version": "1.2.0",
          "state": {
            "_model_module": "@jupyter-widgets/base",
            "_model_module_version": "1.2.0",
            "_model_name": "LayoutModel",
            "_view_count": null,
            "_view_module": "@jupyter-widgets/base",
            "_view_module_version": "1.2.0",
            "_view_name": "LayoutView",
            "align_content": null,
            "align_items": null,
            "align_self": null,
            "border": null,
            "bottom": null,
            "display": null,
            "flex": null,
            "flex_flow": null,
            "grid_area": null,
            "grid_auto_columns": null,
            "grid_auto_flow": null,
            "grid_auto_rows": null,
            "grid_column": null,
            "grid_gap": null,
            "grid_row": null,
            "grid_template_areas": null,
            "grid_template_columns": null,
            "grid_template_rows": null,
            "height": null,
            "justify_content": null,
            "justify_items": null,
            "left": null,
            "margin": null,
            "max_height": null,
            "max_width": null,
            "min_height": null,
            "min_width": null,
            "object_fit": null,
            "object_position": null,
            "order": null,
            "overflow": null,
            "overflow_x": null,
            "overflow_y": null,
            "padding": null,
            "right": null,
            "top": null,
            "visibility": null,
            "width": null
          }
        },
        "f03d7dd3bffb42f4b4467d7a68c05140": {
          "model_module": "@jupyter-widgets/controls",
          "model_name": "DescriptionStyleModel",
          "model_module_version": "1.5.0",
          "state": {
            "_model_module": "@jupyter-widgets/controls",
            "_model_module_version": "1.5.0",
            "_model_name": "DescriptionStyleModel",
            "_view_count": null,
            "_view_module": "@jupyter-widgets/base",
            "_view_module_version": "1.2.0",
            "_view_name": "StyleView",
            "description_width": ""
          }
        },
        "2c7c1edfd08f4c02a3d79ea50c06069c": {
          "model_module": "@jupyter-widgets/controls",
          "model_name": "HBoxModel",
          "model_module_version": "1.5.0",
          "state": {
            "_dom_classes": [],
            "_model_module": "@jupyter-widgets/controls",
            "_model_module_version": "1.5.0",
            "_model_name": "HBoxModel",
            "_view_count": null,
            "_view_module": "@jupyter-widgets/controls",
            "_view_module_version": "1.5.0",
            "_view_name": "HBoxView",
            "box_style": "",
            "children": [
              "IPY_MODEL_a834e4bdde0c4da6b0385d2a2d39a0a8",
              "IPY_MODEL_156e98faf10c4614b31cbcbb719f3523",
              "IPY_MODEL_6070d8f3b4ec4ab6be16b6bcc82e9932"
            ],
            "layout": "IPY_MODEL_042d01d5302349039abfa486d2dda387"
          }
        },
        "a834e4bdde0c4da6b0385d2a2d39a0a8": {
          "model_module": "@jupyter-widgets/controls",
          "model_name": "HTMLModel",
          "model_module_version": "1.5.0",
          "state": {
            "_dom_classes": [],
            "_model_module": "@jupyter-widgets/controls",
            "_model_module_version": "1.5.0",
            "_model_name": "HTMLModel",
            "_view_count": null,
            "_view_module": "@jupyter-widgets/controls",
            "_view_module_version": "1.5.0",
            "_view_name": "HTMLView",
            "description": "",
            "description_tooltip": null,
            "layout": "IPY_MODEL_96627534dde44dbc8889de1adc93332f",
            "placeholder": "​",
            "style": "IPY_MODEL_6e62b224f2df4e6db911651a63190aa1",
            "value": "model.safetensors: 100%"
          }
        },
        "156e98faf10c4614b31cbcbb719f3523": {
          "model_module": "@jupyter-widgets/controls",
          "model_name": "FloatProgressModel",
          "model_module_version": "1.5.0",
          "state": {
            "_dom_classes": [],
            "_model_module": "@jupyter-widgets/controls",
            "_model_module_version": "1.5.0",
            "_model_name": "FloatProgressModel",
            "_view_count": null,
            "_view_module": "@jupyter-widgets/controls",
            "_view_module_version": "1.5.0",
            "_view_name": "ProgressView",
            "bar_style": "success",
            "description": "",
            "description_tooltip": null,
            "layout": "IPY_MODEL_1e79c16676e54ae2a3600c0cfbfbfd2e",
            "max": 548105171,
            "min": 0,
            "orientation": "horizontal",
            "style": "IPY_MODEL_ff353434e7fb4570b5c3907bca3f9d56",
            "value": 548105171
          }
        },
        "6070d8f3b4ec4ab6be16b6bcc82e9932": {
          "model_module": "@jupyter-widgets/controls",
          "model_name": "HTMLModel",
          "model_module_version": "1.5.0",
          "state": {
            "_dom_classes": [],
            "_model_module": "@jupyter-widgets/controls",
            "_model_module_version": "1.5.0",
            "_model_name": "HTMLModel",
            "_view_count": null,
            "_view_module": "@jupyter-widgets/controls",
            "_view_module_version": "1.5.0",
            "_view_name": "HTMLView",
            "description": "",
            "description_tooltip": null,
            "layout": "IPY_MODEL_ca751ed9561a442dbbae5abd6b51c79d",
            "placeholder": "​",
            "style": "IPY_MODEL_57b777c56b83413e816daaec4bf36ac9",
            "value": " 548M/548M [00:01&lt;00:00, 353MB/s]"
          }
        },
        "042d01d5302349039abfa486d2dda387": {
          "model_module": "@jupyter-widgets/base",
          "model_name": "LayoutModel",
          "model_module_version": "1.2.0",
          "state": {
            "_model_module": "@jupyter-widgets/base",
            "_model_module_version": "1.2.0",
            "_model_name": "LayoutModel",
            "_view_count": null,
            "_view_module": "@jupyter-widgets/base",
            "_view_module_version": "1.2.0",
            "_view_name": "LayoutView",
            "align_content": null,
            "align_items": null,
            "align_self": null,
            "border": null,
            "bottom": null,
            "display": null,
            "flex": null,
            "flex_flow": null,
            "grid_area": null,
            "grid_auto_columns": null,
            "grid_auto_flow": null,
            "grid_auto_rows": null,
            "grid_column": null,
            "grid_gap": null,
            "grid_row": null,
            "grid_template_areas": null,
            "grid_template_columns": null,
            "grid_template_rows": null,
            "height": null,
            "justify_content": null,
            "justify_items": null,
            "left": null,
            "margin": null,
            "max_height": null,
            "max_width": null,
            "min_height": null,
            "min_width": null,
            "object_fit": null,
            "object_position": null,
            "order": null,
            "overflow": null,
            "overflow_x": null,
            "overflow_y": null,
            "padding": null,
            "right": null,
            "top": null,
            "visibility": null,
            "width": null
          }
        },
        "96627534dde44dbc8889de1adc93332f": {
          "model_module": "@jupyter-widgets/base",
          "model_name": "LayoutModel",
          "model_module_version": "1.2.0",
          "state": {
            "_model_module": "@jupyter-widgets/base",
            "_model_module_version": "1.2.0",
            "_model_name": "LayoutModel",
            "_view_count": null,
            "_view_module": "@jupyter-widgets/base",
            "_view_module_version": "1.2.0",
            "_view_name": "LayoutView",
            "align_content": null,
            "align_items": null,
            "align_self": null,
            "border": null,
            "bottom": null,
            "display": null,
            "flex": null,
            "flex_flow": null,
            "grid_area": null,
            "grid_auto_columns": null,
            "grid_auto_flow": null,
            "grid_auto_rows": null,
            "grid_column": null,
            "grid_gap": null,
            "grid_row": null,
            "grid_template_areas": null,
            "grid_template_columns": null,
            "grid_template_rows": null,
            "height": null,
            "justify_content": null,
            "justify_items": null,
            "left": null,
            "margin": null,
            "max_height": null,
            "max_width": null,
            "min_height": null,
            "min_width": null,
            "object_fit": null,
            "object_position": null,
            "order": null,
            "overflow": null,
            "overflow_x": null,
            "overflow_y": null,
            "padding": null,
            "right": null,
            "top": null,
            "visibility": null,
            "width": null
          }
        },
        "6e62b224f2df4e6db911651a63190aa1": {
          "model_module": "@jupyter-widgets/controls",
          "model_name": "DescriptionStyleModel",
          "model_module_version": "1.5.0",
          "state": {
            "_model_module": "@jupyter-widgets/controls",
            "_model_module_version": "1.5.0",
            "_model_name": "DescriptionStyleModel",
            "_view_count": null,
            "_view_module": "@jupyter-widgets/base",
            "_view_module_version": "1.2.0",
            "_view_name": "StyleView",
            "description_width": ""
          }
        },
        "1e79c16676e54ae2a3600c0cfbfbfd2e": {
          "model_module": "@jupyter-widgets/base",
          "model_name": "LayoutModel",
          "model_module_version": "1.2.0",
          "state": {
            "_model_module": "@jupyter-widgets/base",
            "_model_module_version": "1.2.0",
            "_model_name": "LayoutModel",
            "_view_count": null,
            "_view_module": "@jupyter-widgets/base",
            "_view_module_version": "1.2.0",
            "_view_name": "LayoutView",
            "align_content": null,
            "align_items": null,
            "align_self": null,
            "border": null,
            "bottom": null,
            "display": null,
            "flex": null,
            "flex_flow": null,
            "grid_area": null,
            "grid_auto_columns": null,
            "grid_auto_flow": null,
            "grid_auto_rows": null,
            "grid_column": null,
            "grid_gap": null,
            "grid_row": null,
            "grid_template_areas": null,
            "grid_template_columns": null,
            "grid_template_rows": null,
            "height": null,
            "justify_content": null,
            "justify_items": null,
            "left": null,
            "margin": null,
            "max_height": null,
            "max_width": null,
            "min_height": null,
            "min_width": null,
            "object_fit": null,
            "object_position": null,
            "order": null,
            "overflow": null,
            "overflow_x": null,
            "overflow_y": null,
            "padding": null,
            "right": null,
            "top": null,
            "visibility": null,
            "width": null
          }
        },
        "ff353434e7fb4570b5c3907bca3f9d56": {
          "model_module": "@jupyter-widgets/controls",
          "model_name": "ProgressStyleModel",
          "model_module_version": "1.5.0",
          "state": {
            "_model_module": "@jupyter-widgets/controls",
            "_model_module_version": "1.5.0",
            "_model_name": "ProgressStyleModel",
            "_view_count": null,
            "_view_module": "@jupyter-widgets/base",
            "_view_module_version": "1.2.0",
            "_view_name": "StyleView",
            "bar_color": null,
            "description_width": ""
          }
        },
        "ca751ed9561a442dbbae5abd6b51c79d": {
          "model_module": "@jupyter-widgets/base",
          "model_name": "LayoutModel",
          "model_module_version": "1.2.0",
          "state": {
            "_model_module": "@jupyter-widgets/base",
            "_model_module_version": "1.2.0",
            "_model_name": "LayoutModel",
            "_view_count": null,
            "_view_module": "@jupyter-widgets/base",
            "_view_module_version": "1.2.0",
            "_view_name": "LayoutView",
            "align_content": null,
            "align_items": null,
            "align_self": null,
            "border": null,
            "bottom": null,
            "display": null,
            "flex": null,
            "flex_flow": null,
            "grid_area": null,
            "grid_auto_columns": null,
            "grid_auto_flow": null,
            "grid_auto_rows": null,
            "grid_column": null,
            "grid_gap": null,
            "grid_row": null,
            "grid_template_areas": null,
            "grid_template_columns": null,
            "grid_template_rows": null,
            "height": null,
            "justify_content": null,
            "justify_items": null,
            "left": null,
            "margin": null,
            "max_height": null,
            "max_width": null,
            "min_height": null,
            "min_width": null,
            "object_fit": null,
            "object_position": null,
            "order": null,
            "overflow": null,
            "overflow_x": null,
            "overflow_y": null,
            "padding": null,
            "right": null,
            "top": null,
            "visibility": null,
            "width": null
          }
        },
        "57b777c56b83413e816daaec4bf36ac9": {
          "model_module": "@jupyter-widgets/controls",
          "model_name": "DescriptionStyleModel",
          "model_module_version": "1.5.0",
          "state": {
            "_model_module": "@jupyter-widgets/controls",
            "_model_module_version": "1.5.0",
            "_model_name": "DescriptionStyleModel",
            "_view_count": null,
            "_view_module": "@jupyter-widgets/base",
            "_view_module_version": "1.2.0",
            "_view_name": "StyleView",
            "description_width": ""
          }
        },
        "1a85dc7191e14a57b3dd1777fee59b84": {
          "model_module": "@jupyter-widgets/controls",
          "model_name": "HBoxModel",
          "model_module_version": "1.5.0",
          "state": {
            "_dom_classes": [],
            "_model_module": "@jupyter-widgets/controls",
            "_model_module_version": "1.5.0",
            "_model_name": "HBoxModel",
            "_view_count": null,
            "_view_module": "@jupyter-widgets/controls",
            "_view_module_version": "1.5.0",
            "_view_name": "HBoxView",
            "box_style": "",
            "children": [
              "IPY_MODEL_936e3c60ca804470a02bbe0611fbf305",
              "IPY_MODEL_2e6c8ff45cb446deb172369f73421a71",
              "IPY_MODEL_f4222714764d4fb49af68b3e9a88ee05"
            ],
            "layout": "IPY_MODEL_2a4b46cacc13411c97e8ccb5ed71a67b"
          }
        },
        "936e3c60ca804470a02bbe0611fbf305": {
          "model_module": "@jupyter-widgets/controls",
          "model_name": "HTMLModel",
          "model_module_version": "1.5.0",
          "state": {
            "_dom_classes": [],
            "_model_module": "@jupyter-widgets/controls",
            "_model_module_version": "1.5.0",
            "_model_name": "HTMLModel",
            "_view_count": null,
            "_view_module": "@jupyter-widgets/controls",
            "_view_module_version": "1.5.0",
            "_view_name": "HTMLView",
            "description": "",
            "description_tooltip": null,
            "layout": "IPY_MODEL_10a33d9fb3374c7dbf0c7702a0988364",
            "placeholder": "​",
            "style": "IPY_MODEL_1f55011ffbbf4bcca54d1fdff68fe747",
            "value": "generation_config.json: 100%"
          }
        },
        "2e6c8ff45cb446deb172369f73421a71": {
          "model_module": "@jupyter-widgets/controls",
          "model_name": "FloatProgressModel",
          "model_module_version": "1.5.0",
          "state": {
            "_dom_classes": [],
            "_model_module": "@jupyter-widgets/controls",
            "_model_module_version": "1.5.0",
            "_model_name": "FloatProgressModel",
            "_view_count": null,
            "_view_module": "@jupyter-widgets/controls",
            "_view_module_version": "1.5.0",
            "_view_name": "ProgressView",
            "bar_style": "success",
            "description": "",
            "description_tooltip": null,
            "layout": "IPY_MODEL_e075a09b4c914ddfb20eb55963923c95",
            "max": 124,
            "min": 0,
            "orientation": "horizontal",
            "style": "IPY_MODEL_33ecb7dc4ea24046bfaba52d33770943",
            "value": 124
          }
        },
        "f4222714764d4fb49af68b3e9a88ee05": {
          "model_module": "@jupyter-widgets/controls",
          "model_name": "HTMLModel",
          "model_module_version": "1.5.0",
          "state": {
            "_dom_classes": [],
            "_model_module": "@jupyter-widgets/controls",
            "_model_module_version": "1.5.0",
            "_model_name": "HTMLModel",
            "_view_count": null,
            "_view_module": "@jupyter-widgets/controls",
            "_view_module_version": "1.5.0",
            "_view_name": "HTMLView",
            "description": "",
            "description_tooltip": null,
            "layout": "IPY_MODEL_2f2b401c5906457ab525061475caf04e",
            "placeholder": "​",
            "style": "IPY_MODEL_907d7988f1f0405db8a7adb8bbea5b27",
            "value": " 124/124 [00:00&lt;00:00, 8.56kB/s]"
          }
        },
        "2a4b46cacc13411c97e8ccb5ed71a67b": {
          "model_module": "@jupyter-widgets/base",
          "model_name": "LayoutModel",
          "model_module_version": "1.2.0",
          "state": {
            "_model_module": "@jupyter-widgets/base",
            "_model_module_version": "1.2.0",
            "_model_name": "LayoutModel",
            "_view_count": null,
            "_view_module": "@jupyter-widgets/base",
            "_view_module_version": "1.2.0",
            "_view_name": "LayoutView",
            "align_content": null,
            "align_items": null,
            "align_self": null,
            "border": null,
            "bottom": null,
            "display": null,
            "flex": null,
            "flex_flow": null,
            "grid_area": null,
            "grid_auto_columns": null,
            "grid_auto_flow": null,
            "grid_auto_rows": null,
            "grid_column": null,
            "grid_gap": null,
            "grid_row": null,
            "grid_template_areas": null,
            "grid_template_columns": null,
            "grid_template_rows": null,
            "height": null,
            "justify_content": null,
            "justify_items": null,
            "left": null,
            "margin": null,
            "max_height": null,
            "max_width": null,
            "min_height": null,
            "min_width": null,
            "object_fit": null,
            "object_position": null,
            "order": null,
            "overflow": null,
            "overflow_x": null,
            "overflow_y": null,
            "padding": null,
            "right": null,
            "top": null,
            "visibility": null,
            "width": null
          }
        },
        "10a33d9fb3374c7dbf0c7702a0988364": {
          "model_module": "@jupyter-widgets/base",
          "model_name": "LayoutModel",
          "model_module_version": "1.2.0",
          "state": {
            "_model_module": "@jupyter-widgets/base",
            "_model_module_version": "1.2.0",
            "_model_name": "LayoutModel",
            "_view_count": null,
            "_view_module": "@jupyter-widgets/base",
            "_view_module_version": "1.2.0",
            "_view_name": "LayoutView",
            "align_content": null,
            "align_items": null,
            "align_self": null,
            "border": null,
            "bottom": null,
            "display": null,
            "flex": null,
            "flex_flow": null,
            "grid_area": null,
            "grid_auto_columns": null,
            "grid_auto_flow": null,
            "grid_auto_rows": null,
            "grid_column": null,
            "grid_gap": null,
            "grid_row": null,
            "grid_template_areas": null,
            "grid_template_columns": null,
            "grid_template_rows": null,
            "height": null,
            "justify_content": null,
            "justify_items": null,
            "left": null,
            "margin": null,
            "max_height": null,
            "max_width": null,
            "min_height": null,
            "min_width": null,
            "object_fit": null,
            "object_position": null,
            "order": null,
            "overflow": null,
            "overflow_x": null,
            "overflow_y": null,
            "padding": null,
            "right": null,
            "top": null,
            "visibility": null,
            "width": null
          }
        },
        "1f55011ffbbf4bcca54d1fdff68fe747": {
          "model_module": "@jupyter-widgets/controls",
          "model_name": "DescriptionStyleModel",
          "model_module_version": "1.5.0",
          "state": {
            "_model_module": "@jupyter-widgets/controls",
            "_model_module_version": "1.5.0",
            "_model_name": "DescriptionStyleModel",
            "_view_count": null,
            "_view_module": "@jupyter-widgets/base",
            "_view_module_version": "1.2.0",
            "_view_name": "StyleView",
            "description_width": ""
          }
        },
        "e075a09b4c914ddfb20eb55963923c95": {
          "model_module": "@jupyter-widgets/base",
          "model_name": "LayoutModel",
          "model_module_version": "1.2.0",
          "state": {
            "_model_module": "@jupyter-widgets/base",
            "_model_module_version": "1.2.0",
            "_model_name": "LayoutModel",
            "_view_count": null,
            "_view_module": "@jupyter-widgets/base",
            "_view_module_version": "1.2.0",
            "_view_name": "LayoutView",
            "align_content": null,
            "align_items": null,
            "align_self": null,
            "border": null,
            "bottom": null,
            "display": null,
            "flex": null,
            "flex_flow": null,
            "grid_area": null,
            "grid_auto_columns": null,
            "grid_auto_flow": null,
            "grid_auto_rows": null,
            "grid_column": null,
            "grid_gap": null,
            "grid_row": null,
            "grid_template_areas": null,
            "grid_template_columns": null,
            "grid_template_rows": null,
            "height": null,
            "justify_content": null,
            "justify_items": null,
            "left": null,
            "margin": null,
            "max_height": null,
            "max_width": null,
            "min_height": null,
            "min_width": null,
            "object_fit": null,
            "object_position": null,
            "order": null,
            "overflow": null,
            "overflow_x": null,
            "overflow_y": null,
            "padding": null,
            "right": null,
            "top": null,
            "visibility": null,
            "width": null
          }
        },
        "33ecb7dc4ea24046bfaba52d33770943": {
          "model_module": "@jupyter-widgets/controls",
          "model_name": "ProgressStyleModel",
          "model_module_version": "1.5.0",
          "state": {
            "_model_module": "@jupyter-widgets/controls",
            "_model_module_version": "1.5.0",
            "_model_name": "ProgressStyleModel",
            "_view_count": null,
            "_view_module": "@jupyter-widgets/base",
            "_view_module_version": "1.2.0",
            "_view_name": "StyleView",
            "bar_color": null,
            "description_width": ""
          }
        },
        "2f2b401c5906457ab525061475caf04e": {
          "model_module": "@jupyter-widgets/base",
          "model_name": "LayoutModel",
          "model_module_version": "1.2.0",
          "state": {
            "_model_module": "@jupyter-widgets/base",
            "_model_module_version": "1.2.0",
            "_model_name": "LayoutModel",
            "_view_count": null,
            "_view_module": "@jupyter-widgets/base",
            "_view_module_version": "1.2.0",
            "_view_name": "LayoutView",
            "align_content": null,
            "align_items": null,
            "align_self": null,
            "border": null,
            "bottom": null,
            "display": null,
            "flex": null,
            "flex_flow": null,
            "grid_area": null,
            "grid_auto_columns": null,
            "grid_auto_flow": null,
            "grid_auto_rows": null,
            "grid_column": null,
            "grid_gap": null,
            "grid_row": null,
            "grid_template_areas": null,
            "grid_template_columns": null,
            "grid_template_rows": null,
            "height": null,
            "justify_content": null,
            "justify_items": null,
            "left": null,
            "margin": null,
            "max_height": null,
            "max_width": null,
            "min_height": null,
            "min_width": null,
            "object_fit": null,
            "object_position": null,
            "order": null,
            "overflow": null,
            "overflow_x": null,
            "overflow_y": null,
            "padding": null,
            "right": null,
            "top": null,
            "visibility": null,
            "width": null
          }
        },
        "907d7988f1f0405db8a7adb8bbea5b27": {
          "model_module": "@jupyter-widgets/controls",
          "model_name": "DescriptionStyleModel",
          "model_module_version": "1.5.0",
          "state": {
            "_model_module": "@jupyter-widgets/controls",
            "_model_module_version": "1.5.0",
            "_model_name": "DescriptionStyleModel",
            "_view_count": null,
            "_view_module": "@jupyter-widgets/base",
            "_view_module_version": "1.2.0",
            "_view_name": "StyleView",
            "description_width": ""
          }
        }
      }
    }
  },
  "cells": [
    {
      "cell_type": "code",
      "execution_count": 1,
      "metadata": {
        "colab": {
          "base_uri": "https://localhost:8080/"
        },
        "id": "Mdu1XE7jUAzL",
        "outputId": "8abc64da-778d-4198-f9b6-96c390f667ab"
      },
      "outputs": [
        {
          "output_type": "stream",
          "name": "stdout",
          "text": [
            "Mounted at /content/drive\n"
          ]
        }
      ],
      "source": [
        "# Mount Google Drive to access files\n",
        "from google.colab import drive\n",
        "drive.mount('/content/drive')"
      ]
    },
    {
      "cell_type": "code",
      "source": [
        "# importing all libraries\n",
        "import torch\n",
        "from transformers import GPT2LMHeadModel, GPT2Tokenizer, TextDataset, DataCollatorForLanguageModeling\n",
        "import spacy\n",
        "import requests\n",
        "from bs4 import BeautifulSoup\n",
        "# Load English language model\n",
        "nlp = spacy.load(\"en_core_web_sm\")\n",
        "import nltk\n",
        "nltk.download('punkt')\n",
        "nltk.download('stopwords')\n",
        "from nltk.tokenize import sent_tokenize\n",
        "import csv"
      ],
      "metadata": {
        "colab": {
          "base_uri": "https://localhost:8080/"
        },
        "id": "fjFKiDf0ULO3",
        "outputId": "c5225219-c042-4aad-ecf4-6ac27ba244c4"
      },
      "execution_count": 2,
      "outputs": [
        {
          "output_type": "stream",
          "name": "stderr",
          "text": [
            "[nltk_data] Downloading package punkt to /root/nltk_data...\n",
            "[nltk_data]   Unzipping tokenizers/punkt.zip.\n",
            "[nltk_data] Downloading package stopwords to /root/nltk_data...\n",
            "[nltk_data]   Unzipping corpora/stopwords.zip.\n"
          ]
        }
      ]
    },
    {
      "cell_type": "code",
      "source": [
        "# URL of the MITRE ATT&CK matrix\n",
        "mitre_url = \"https://attack.mitre.org/matrices/enterprise/\""
      ],
      "metadata": {
        "id": "F4niItJRUYsk"
      },
      "execution_count": 3,
      "outputs": []
    },
    {
      "cell_type": "code",
      "source": [
        "def extract_text_from_html(url):\n",
        "    response = requests.get(url)\n",
        "    html_content = response.text\n",
        "    soup = BeautifulSoup(html_content, 'html.parser')\n",
        "    text = soup.get_text()\n",
        "    return text"
      ],
      "metadata": {
        "id": "Xov4Ett2UmWA"
      },
      "execution_count": 4,
      "outputs": []
    },
    {
      "cell_type": "code",
      "source": [
        "mitre_data = extract_text_from_html(mitre_url)"
      ],
      "metadata": {
        "id": "RjxtszVTU0KI"
      },
      "execution_count": 8,
      "outputs": []
    },
    {
      "cell_type": "code",
      "source": [
        "# Load model and tokenizer\n",
        "tokenizer = GPT2Tokenizer.from_pretrained(\"gpt2\")\n",
        "model = GPT2LMHeadModel.from_pretrained(\"gpt2\")"
      ],
      "metadata": {
        "colab": {
          "base_uri": "https://localhost:8080/",
          "height": 241,
          "referenced_widgets": [
            "3107b2c3b697423fba41f6548caf555d",
            "b3673061ede241ee98ceae600ec9554e",
            "a6ddac7e5e454304829956aa4498768f",
            "26946e9d18de4aa58479ef0bda65b516",
            "fd74760849e44d5fa79821d60007636b",
            "3511680069624d398b53a994972c74fb",
            "e1cc49a1219548c68beb862b6fb9375d",
            "f6c1007490fd46059313ad02636c1b12",
            "b67e8b6bdd8642b9b8bc15bd95b66058",
            "b64b8478ed8344939946617f863f8a46",
            "c242ec0843be4f4bb8730d55b4e17b56",
            "9c421b2c589b46ec874191ce5a7f33c9",
            "7aec8b2429b747d4b867e1e260626daf",
            "089be6e0be56479c9679f43c978370db",
            "cbcd9908a6164c3f905a4fd8f7ff2d07",
            "02a0b1208cf742529f661dd88174c8bf",
            "0fa5fd41ae3c4a10bdbdcdc9eeefe8aa",
            "d2555194e373410c835863d6da0b40aa",
            "d747ddbac6184cc9bc7a5484b7a62c94",
            "4cf3e26e72e04ff09db5573d28dd29a8",
            "b000c655ecaa4484a1f2b1acd841b012",
            "aecdcab874d84067a076ee94d4b92f22",
            "6259e7808cd4453f8dca5110f18b36d3",
            "cce43f6ef12b4d5e9d2f68dee361a5c5",
            "92a7f6beadf242c9a2db6325d4f1f373",
            "68e1d8c12a8447ddb16c24457e0e8f64",
            "5200dae236824529bb20d0bd496abb1f",
            "b4e7823990f64aca97dd073f05f68ed3",
            "520bd3d4692e4fff95a4e1e7410cf75d",
            "4f95a0d8f42040038c400f132bc5e937",
            "2e53e2d15ce64216ae86682172fd90b9",
            "ae847f1cfe5d4e56bf5915825c512544",
            "df0a0db7ff7448449be49a3bc7212063",
            "dca89008bbf34b78aab72cc73bc6bd19",
            "824f81154dae4c6f93ad19a1f8510777",
            "eb2e266f638248388fa15d1a4cf060dd",
            "8ebe6ff672c641d78a9f154371e698ea",
            "e00f9fb71ab0425688644e5c0d15477e",
            "920c83544a324d18a6143d172ada7917",
            "8e8a3d6a8c4447d4ae0dbee5f8641d76",
            "d44dc88f1fac45bd9580d7ed39117363",
            "cd9620c12b5649aa8ffc933af37942f3",
            "f1a67fa1fd544aedb9edc162cee53734",
            "eba9891c2b1948e39175b8d76804f807",
            "c801c24592f547c2b6134425ca9b1830",
            "0360f9bc6f8248018d86d66099ceed44",
            "ced553ccdb6d4d9981622a492f99063c",
            "ba0fa94509564794befc5c02b9a28d90",
            "452bfeb496534cbfadd267075bb79d17",
            "2f5c91efad9e497d953ea5dc2fd9b848",
            "7e55e875316f49e39545a9ca73a76efc",
            "bb7c03bad7ab4088ad703ec00b6aa690",
            "7ad1594defd74470890246941a6afee9",
            "44748ab3752a48e3884df898b9fc064f",
            "f03d7dd3bffb42f4b4467d7a68c05140",
            "2c7c1edfd08f4c02a3d79ea50c06069c",
            "a834e4bdde0c4da6b0385d2a2d39a0a8",
            "156e98faf10c4614b31cbcbb719f3523",
            "6070d8f3b4ec4ab6be16b6bcc82e9932",
            "042d01d5302349039abfa486d2dda387",
            "96627534dde44dbc8889de1adc93332f",
            "6e62b224f2df4e6db911651a63190aa1",
            "1e79c16676e54ae2a3600c0cfbfbfd2e",
            "ff353434e7fb4570b5c3907bca3f9d56",
            "ca751ed9561a442dbbae5abd6b51c79d",
            "57b777c56b83413e816daaec4bf36ac9",
            "1a85dc7191e14a57b3dd1777fee59b84",
            "936e3c60ca804470a02bbe0611fbf305",
            "2e6c8ff45cb446deb172369f73421a71",
            "f4222714764d4fb49af68b3e9a88ee05",
            "2a4b46cacc13411c97e8ccb5ed71a67b",
            "10a33d9fb3374c7dbf0c7702a0988364",
            "1f55011ffbbf4bcca54d1fdff68fe747",
            "e075a09b4c914ddfb20eb55963923c95",
            "33ecb7dc4ea24046bfaba52d33770943",
            "2f2b401c5906457ab525061475caf04e",
            "907d7988f1f0405db8a7adb8bbea5b27"
          ]
        },
        "id": "JXSdBBAcVARH",
        "outputId": "1584f4b8-d33e-4777-88c5-a3661523430f"
      },
      "execution_count": 6,
      "outputs": [
        {
          "output_type": "display_data",
          "data": {
            "text/plain": [
              "tokenizer_config.json:   0%|          | 0.00/26.0 [00:00<?, ?B/s]"
            ],
            "application/vnd.jupyter.widget-view+json": {
              "version_major": 2,
              "version_minor": 0,
              "model_id": "3107b2c3b697423fba41f6548caf555d"
            }
          },
          "metadata": {}
        },
        {
          "output_type": "display_data",
          "data": {
            "text/plain": [
              "vocab.json:   0%|          | 0.00/1.04M [00:00<?, ?B/s]"
            ],
            "application/vnd.jupyter.widget-view+json": {
              "version_major": 2,
              "version_minor": 0,
              "model_id": "9c421b2c589b46ec874191ce5a7f33c9"
            }
          },
          "metadata": {}
        },
        {
          "output_type": "display_data",
          "data": {
            "text/plain": [
              "merges.txt:   0%|          | 0.00/456k [00:00<?, ?B/s]"
            ],
            "application/vnd.jupyter.widget-view+json": {
              "version_major": 2,
              "version_minor": 0,
              "model_id": "6259e7808cd4453f8dca5110f18b36d3"
            }
          },
          "metadata": {}
        },
        {
          "output_type": "display_data",
          "data": {
            "text/plain": [
              "tokenizer.json:   0%|          | 0.00/1.36M [00:00<?, ?B/s]"
            ],
            "application/vnd.jupyter.widget-view+json": {
              "version_major": 2,
              "version_minor": 0,
              "model_id": "dca89008bbf34b78aab72cc73bc6bd19"
            }
          },
          "metadata": {}
        },
        {
          "output_type": "display_data",
          "data": {
            "text/plain": [
              "config.json:   0%|          | 0.00/665 [00:00<?, ?B/s]"
            ],
            "application/vnd.jupyter.widget-view+json": {
              "version_major": 2,
              "version_minor": 0,
              "model_id": "c801c24592f547c2b6134425ca9b1830"
            }
          },
          "metadata": {}
        },
        {
          "output_type": "display_data",
          "data": {
            "text/plain": [
              "model.safetensors:   0%|          | 0.00/548M [00:00<?, ?B/s]"
            ],
            "application/vnd.jupyter.widget-view+json": {
              "version_major": 2,
              "version_minor": 0,
              "model_id": "2c7c1edfd08f4c02a3d79ea50c06069c"
            }
          },
          "metadata": {}
        },
        {
          "output_type": "display_data",
          "data": {
            "text/plain": [
              "generation_config.json:   0%|          | 0.00/124 [00:00<?, ?B/s]"
            ],
            "application/vnd.jupyter.widget-view+json": {
              "version_major": 2,
              "version_minor": 0,
              "model_id": "1a85dc7191e14a57b3dd1777fee59b84"
            }
          },
          "metadata": {}
        }
      ]
    },
    {
      "cell_type": "code",
      "source": [
        "# Splitting text data into sentences\n",
        "sentences = nltk.sent_tokenize(mitre_data)"
      ],
      "metadata": {
        "id": "4w1lsdYEVIJB"
      },
      "execution_count": 9,
      "outputs": []
    },
    {
      "cell_type": "code",
      "source": [
        "len(sentences), len(sentences[0]), len(sentences[3])"
      ],
      "metadata": {
        "colab": {
          "base_uri": "https://localhost:8080/"
        },
        "id": "1MfewGOTVrVE",
        "outputId": "f66e512c-31e3-4526-858e-43cceed35d4e"
      },
      "execution_count": 14,
      "outputs": [
        {
          "output_type": "execute_result",
          "data": {
            "text/plain": [
              "(6, 530, 161)"
            ]
          },
          "metadata": {},
          "execution_count": 14
        }
      ]
    },
    {
      "cell_type": "code",
      "source": [
        "import re\n",
        "\n",
        "sentences_refined = []\n",
        "\n",
        "for sentence in sentences:\n",
        "    # Replace multiple occurrences of '\\n' with a single space\n",
        "    sentence = re.sub(r'\\n+', ' ', sentence)\n",
        "\n",
        "    # Ensure sentence is greater than 10 characters and does not contain more than 5 consecutive spaces\n",
        "    if len(sentence) > 10:\n",
        "        if len(sentence) <= 200:  # Check if sentence is within desired length range\n",
        "            sentences_refined.append(sentence)\n",
        "        else:\n",
        "            # Split long sentences into smaller chunks of max 200 characters\n",
        "            chunks = [sentence[i:i+200] for i in range(0, len(sentence), 200)]\n",
        "            for chunk in chunks:\n",
        "                # Ensure chunk length is within desired range and does not contain more than 5 consecutive spaces\n",
        "                if len(chunk) > 10:\n",
        "                    sentences_refined.append(chunk)"
      ],
      "metadata": {
        "id": "oM9gAUkzVmye"
      },
      "execution_count": 15,
      "outputs": []
    },
    {
      "cell_type": "code",
      "source": [
        "len(sentences_refined), len(sentences_refined[0]), len(sentences_refined[103])"
      ],
      "metadata": {
        "colab": {
          "base_uri": "https://localhost:8080/"
        },
        "id": "rueCV5YSWHOg",
        "outputId": "c5d4f098-46c3-426b-fa69-ca5c1271268d"
      },
      "execution_count": 20,
      "outputs": [
        {
          "output_type": "execute_result",
          "data": {
            "text/plain": [
              "(207, 200, 200)"
            ]
          },
          "metadata": {},
          "execution_count": 20
        }
      ]
    },
    {
      "cell_type": "code",
      "source": [
        "from nltk.sentiment.vader import SentimentIntensityAnalyzer\n",
        "\n",
        "# Function to perform sentiment analysis\n",
        "def analyze_sentiment(text):\n",
        "    sia = SentimentIntensityAnalyzer()\n",
        "    sentiment_scores = sia.polarity_scores(text)\n",
        "    return sentiment_scores"
      ],
      "metadata": {
        "id": "EhdshdPYX7Zs"
      },
      "execution_count": 21,
      "outputs": []
    },
    {
      "cell_type": "code",
      "source": [
        "import nltk\n",
        "nltk.download('vader_lexicon')"
      ],
      "metadata": {
        "colab": {
          "base_uri": "https://localhost:8080/"
        },
        "id": "6t3Oq4fPYFPE",
        "outputId": "eecdeaa7-6178-4e46-aa6e-63580d9d1c2f"
      },
      "execution_count": 22,
      "outputs": [
        {
          "output_type": "stream",
          "name": "stderr",
          "text": [
            "[nltk_data] Downloading package vader_lexicon to /root/nltk_data...\n"
          ]
        },
        {
          "output_type": "execute_result",
          "data": {
            "text/plain": [
              "True"
            ]
          },
          "metadata": {},
          "execution_count": 22
        }
      ]
    },
    {
      "cell_type": "code",
      "source": [
        "def categorize_sentences(sentences):\n",
        "    threat_mitre = []\n",
        "    action_mitre = []\n",
        "    information_mitre = []\n",
        "\n",
        "    for sentence in sentences:\n",
        "        sentiment_scores = analyze_sentiment(sentence)\n",
        "        compound_score = sentiment_scores['compound']\n",
        "\n",
        "        # Categorize the sentence based on the compound score\n",
        "        if compound_score >= 0.05:  # Positive sentiment\n",
        "            action_mitre.append(sentence)\n",
        "        elif compound_score <= -0.05:  # Negative sentiment\n",
        "            threat_mitre.append(sentence)\n",
        "        else:  # Neutral sentiment\n",
        "            information_mitre.append(sentence)\n",
        "\n",
        "    return threat_mitre, action_mitre, information_mitre"
      ],
      "metadata": {
        "id": "2goo_e2zY20B"
      },
      "execution_count": 24,
      "outputs": []
    },
    {
      "cell_type": "code",
      "source": [
        "# Example usage:\n",
        "threat_mitre, action_mitre, information_mitre = categorize_sentences(sentences_refined)"
      ],
      "metadata": {
        "id": "9i4TogqtZerh"
      },
      "execution_count": 58,
      "outputs": []
    },
    {
      "cell_type": "code",
      "source": [
        "len(threat_mitre), len(threat_mitre[7])"
      ],
      "metadata": {
        "colab": {
          "base_uri": "https://localhost:8080/"
        },
        "id": "lXYx84hKlprA",
        "outputId": "f9139a27-a134-445e-b9ce-2826a7066605"
      },
      "execution_count": 59,
      "outputs": [
        {
          "output_type": "execute_result",
          "data": {
            "text/plain": [
              "(66, 200)"
            ]
          },
          "metadata": {},
          "execution_count": 59
        }
      ]
    },
    {
      "cell_type": "code",
      "source": [
        "threat_mitre[2]"
      ],
      "metadata": {
        "colab": {
          "base_uri": "https://localhost:8080/",
          "height": 53
        },
        "id": "H2jrVkoPj5jU",
        "outputId": "24ebbe1e-0236-4bf3-a950-a067b168fa5c"
      },
      "execution_count": 60,
      "outputs": [
        {
          "output_type": "execute_result",
          "data": {
            "text/plain": [
              "'Botnet Web Services Serverless Network Devices Develop Capabilities\\xa0(4)  =  Malware Code Signing Certificates Digital Certificates Exploits Establish Accounts\\xa0(3)  =  Social Media Accounts Email Accou'"
            ],
            "application/vnd.google.colaboratory.intrinsic+json": {
              "type": "string"
            }
          },
          "metadata": {},
          "execution_count": 60
        }
      ]
    },
    {
      "cell_type": "code",
      "source": [
        "action_mitre[5]"
      ],
      "metadata": {
        "colab": {
          "base_uri": "https://localhost:8080/",
          "height": 53
        },
        "id": "ImNgRdWZj578",
        "outputId": "df43e58f-bfe7-4e68-c56c-e1f578f4e79b"
      },
      "execution_count": 61,
      "outputs": [
        {
          "output_type": "execute_result",
          "data": {
            "text/plain": [
              "'termine Physical Locations Business Relationships Identify Business Tempo Identify Roles Phishing for Information\\xa0(4)  =  Spearphishing Service Spearphishing Attachment Spearphishing Link Spearphishin'"
            ],
            "application/vnd.google.colaboratory.intrinsic+json": {
              "type": "string"
            }
          },
          "metadata": {},
          "execution_count": 61
        }
      ]
    },
    {
      "cell_type": "code",
      "source": [
        "information_mitre[4]"
      ],
      "metadata": {
        "colab": {
          "base_uri": "https://localhost:8080/",
          "height": 53
        },
        "id": "MiEw11PjZh0R",
        "outputId": "116a051c-754d-487b-e188-9e22f5d25a16"
      },
      "execution_count": 57,
      "outputs": [
        {
          "output_type": "execute_result",
          "data": {
            "text/plain": [
              "'View on the ATT&CK® Navigator  Version Permalink Live Version layout: side                             side                                                      flat                          show sub-'"
            ],
            "application/vnd.google.colaboratory.intrinsic+json": {
              "type": "string"
            }
          },
          "metadata": {},
          "execution_count": 57
        }
      ]
    },
    {
      "cell_type": "code",
      "source": [
        "from gensim.downloader import load\n",
        "glove_model = load('glove-twitter-100')"
      ],
      "metadata": {
        "colab": {
          "base_uri": "https://localhost:8080/"
        },
        "id": "juSBWvi3eLhJ",
        "outputId": "25034d5e-fbe8-4c73-95c0-b5d67bbcae60"
      },
      "execution_count": 31,
      "outputs": [
        {
          "output_type": "stream",
          "name": "stdout",
          "text": [
            "[==================================================] 100.0% 387.1/387.1MB downloaded\n"
          ]
        }
      ]
    },
    {
      "cell_type": "code",
      "source": [
        "import numpy as np\n",
        "import re\n",
        "from gensim.models import KeyedVectors\n",
        "from nltk.corpus import stopwords\n",
        "from nltk.tokenize import word_tokenize\n",
        "from sklearn.metrics.pairwise import cosine_similarity"
      ],
      "metadata": {
        "id": "8p-FPzOZeNt4"
      },
      "execution_count": 33,
      "outputs": []
    },
    {
      "cell_type": "code",
      "source": [
        "# Define function to clean text\n",
        "def clean_text(text):\n",
        "    # Remove special characters and punctuation\n",
        "    clean_text = re.sub(r'[^\\w\\s]', '', text.lower())\n",
        "    # Remove stopwords\n",
        "    stop_words = set(stopwords.words('english'))\n",
        "    tokens = word_tokenize(clean_text)\n",
        "    filtered_tokens = [word for word in tokens if word not in stop_words]\n",
        "    return ' '.join(filtered_tokens)"
      ],
      "metadata": {
        "id": "rWwnUcDbnB-j"
      },
      "execution_count": 34,
      "outputs": []
    },
    {
      "cell_type": "code",
      "source": [
        "# Clean MITRE sentences\n",
        "cleaned_threat_mitre = [clean_text(sentence) for sentence in threat_mitre]\n",
        "cleaned_action_mitre = [clean_text(sentence) for sentence in action_mitre]\n",
        "cleaned_information_mitre = [clean_text(sentence) for sentence in information_mitre]"
      ],
      "metadata": {
        "id": "5s9VWvhxoCjY"
      },
      "execution_count": 35,
      "outputs": []
    },
    {
      "cell_type": "code",
      "source": [
        "len(cleaned_threat_mitre), len(cleaned_threat_mitre[3])"
      ],
      "metadata": {
        "colab": {
          "base_uri": "https://localhost:8080/"
        },
        "id": "Sykv2TuFrmpE",
        "outputId": "c9e35b7c-ecb5-4564-e777-238a3b50df71"
      },
      "execution_count": 51,
      "outputs": [
        {
          "output_type": "execute_result",
          "data": {
            "text/plain": [
              "(66, 197)"
            ]
          },
          "metadata": {},
          "execution_count": 51
        }
      ]
    },
    {
      "cell_type": "code",
      "source": [
        "len(cleaned_threat_mitre[3])"
      ],
      "metadata": {
        "colab": {
          "base_uri": "https://localhost:8080/"
        },
        "id": "yC6qVEKztOs7",
        "outputId": "aa90f7a2-e969-447e-9dfa-f53fef4f9386"
      },
      "execution_count": 62,
      "outputs": [
        {
          "output_type": "execute_result",
          "data": {
            "text/plain": [
              "197"
            ]
          },
          "metadata": {},
          "execution_count": 62
        }
      ]
    },
    {
      "cell_type": "code",
      "source": [
        "# Concatenate all sentences in cleaned_threat_mitre into a single document\n",
        "document_threat = ' '.join(cleaned_threat_mitre)\n",
        "\n",
        "# Concatenate all sentences in cleaned_action_mitre into a single document\n",
        "document_action = ' '.join(cleaned_action_mitre)\n",
        "\n",
        "# Concatenate all sentences in cleaned_information_mitre into a single document\n",
        "document_information = ' '.join(cleaned_information_mitre)"
      ],
      "metadata": {
        "id": "PWmHn9vX3qUJ"
      },
      "execution_count": 38,
      "outputs": []
    },
    {
      "cell_type": "code",
      "source": [
        "len(document_threat), len(document_threat[5])"
      ],
      "metadata": {
        "colab": {
          "base_uri": "https://localhost:8080/"
        },
        "id": "FHLdpzmvr9LQ",
        "outputId": "8651aa0e-7159-444b-cc34-213c72a55f0a"
      },
      "execution_count": 56,
      "outputs": [
        {
          "output_type": "execute_result",
          "data": {
            "text/plain": [
              "(13265, 1)"
            ]
          },
          "metadata": {},
          "execution_count": 56
        }
      ]
    },
    {
      "cell_type": "code",
      "source": [
        "# Clean the concatenated documents\n",
        "cleaned_document_threat = clean_text(document_threat)\n",
        "cleaned_document_action = clean_text(document_action)\n",
        "cleaned_document_information = clean_text(document_information)"
      ],
      "metadata": {
        "id": "fqcpLn4F31O1"
      },
      "execution_count": 63,
      "outputs": []
    },
    {
      "cell_type": "code",
      "source": [
        "len(cleaned_document_action), len(cleaned_document_action[9])"
      ],
      "metadata": {
        "colab": {
          "base_uri": "https://localhost:8080/"
        },
        "id": "gg6D8v0K350E",
        "outputId": "d540c640-a9da-41c5-8d32-4abcd33ec130"
      },
      "execution_count": 64,
      "outputs": [
        {
          "output_type": "execute_result",
          "data": {
            "text/plain": [
              "(10958, 1)"
            ]
          },
          "metadata": {},
          "execution_count": 64
        }
      ]
    },
    {
      "cell_type": "code",
      "source": [
        "cleaned_document_action"
      ],
      "metadata": {
        "colab": {
          "base_uri": "https://localhost:8080/",
          "height": 143
        },
        "id": "Xmm1aKUDw2uj",
        "outputId": "3ac11965-516b-4860-fe37-d428038eb5a9"
      },
      "execution_count": 66,
      "outputs": [
        {
          "output_type": "execute_result",
          "data": {
            "text/plain": [
              "'matrix enterprise mitre attck matrices enterprise mobile ics tactics enterprise mobile ics techniques enterprise mobile ics defenses data sources mitigations enterprise mobile ics assets cti gr oups software campaigns resources get started learn attck attck data tools faq engage attck version history legal branding benefactors blog search techniques hide subtechniques help reconnaissance resource development initial access execution persistence privilege escalation defense evasion credential access discovery lateral movement collectio 18 techniques 9 techniques 14 techniques active scanning 3 scanning ip blocks vuln oyee names gather victim network information 6 domain properties dns network trust dependencies network topology ip addresses network security appliances gather victim org information 4 de termine physical locations business relationships identify business tempo identify roles phishing information 4 spearphishing service spearphishing attachment spearphishing link spearphishin hing 4 spearphishing attachment spearphishing link spearphishing via service spearphishing voice replication removable media supply chain compromise 3 compromise software dependenc ies development tools compromise software supply chain compromise hardware supply chain trusted relationship valid accounts 4 default accounts domain accounts local accounts cloud accounts c autoit container administration command deploy container exploitation client execution interprocess communication 3 component object model dynamic data exchange xpc services native api sche duled taskjob 5 cron scheduled task systemd timers container orchestration job serverless execution shared modules software deployment tools system services 2 launchctl service executi ion package time providers winlogon helper dll security support provider kernel modules extensions reopened applications lsass driver shortcut modification port monitors print processors xdg auto start entries active setup login items boot logon initialization scripts 5 logon script windows login hook network logon script rc scripts startup items browser extensions compromise host oftware binary create account 3 local account domain account cloud account create modify system process 5 launch agent systemd service windows service launch daemon container service ev sh helper dll accessibility features appcert dlls appinit dlls application shimming image file execution options injection powershell profile emond component object model hijacking installer packages stration additional container cluster roles boot logon autostart execution 14 registry run keys startup folder authentication package time providers winlogon helper dll security support pro vider kernel modules extensions reopened applications lsass driver shortcut modification port monitors print processors xdg autostart entries active setup login items boot logon initialization scripts 5 logon script windows login hook network logon script rc scripts startup items create modify system process 5 launch agent systemd service windows service launch daemon cont ainer service domain tenant policy modification 2 group policy modification trust modification escape host event triggered execution 16 change default file association screensaver wi ming image file execution options injection powershell profile emond component object model hijacking installer packages exploitation privilege escalation hijack execution flow 13 dll search build image host debugger evasion deobfuscatedecode files information deploy container direct volume access domain tenant policy modification 2 group policy modification trust modifica tion execution guardrails 1 environmental keying exploitation defense evasion file directory permissions modification 2 windows file directory permissions modification linux erting disable modify linux audit system impersonation indicator removal 9 clear windows event logs clear linux mac system logs clear command history file deletion network share connection removal timestomp clear network connection history configurations clear mailbox data clear persistence indirect command execution masquerading 9 invalid code signature righttoleft overrid rovider dll conditional access policies modify cloud compute infrastructure 5 create snapshot create cloud instance delete cloud instance revert cloud instance modify cloud compute configuration ng process doppelgänging vdso hijacking listplanting reflective code loading rogue domain controller rootkit subvert trust controls 6 gatekeeper bypass code signing sip trust provider hijack king socket filters trusted developer utilities proxy execution 1 msbuild unusedunsupported cloud regions use alternate authentication material 4 application access token pass hash pa service discovery cloud storage object discovery container resource discovery debugger evasion device driver discovery domain trust discovery file directory discovery group policy discovery lo g enumeration network service discovery network share discovery network sniffing password policy discovery peripheral device discovery permission groups discovery 3 local groups domain groups cl oud groups process discovery query registry remote system discovery software discovery 1 security software discovery system information discovery system location discovery 1 system languag service session hijacking 2 ssh hijacking rdp hijacking remote services 8 remote desktop protocol smbwindows admin shares distributed component object model ssh vnc windows remote managem ent cloud services direct cloud vm connections replication removable media software deployment tools taint shared content use alternate authentication material 4 application access token able media content injection data encoding 2 standard encoding nonstandard encoding data obfuscation 3 junk data steganography protocol impersonation dynamic resolution 3 fast flux econnaissance resource development initial access execution persistence privilege escalation defense evasion credential access discovery lateral movement collection command control exfiltration im information 6 domain properties dns network trust dependencies network topology ip addresses network security appliances gather victim org information 4 determine physical locations business r elationships identify business tempo identify roles phishing information 4 spearphishing service spearphishing attachment spearphishing link spearphishing voice search closed sources 2 software supply chain compromise hardware supply chain trusted relationship valid accounts 4 default accounts domain accounts local accounts cloud accounts cloud administration command comma nd deploy container exploitation client execution interprocess communication 3 component object model dynamic data exchange xpc services native api scheduled taskjob 5 cron schedu led task systemd timers container orchestration job serverless execution shared modules software deployment tools system services 2 launchctl service execution user execution 3 malicious l elper dll security support provider kernel modules extensions reopened applications lsass driver shortcut modification port monitors print processors xdg autostart entries active setup login item boot logon initialization scripts 5 logon script windows login hook network logon script rc scripts startup items browser extensions compromise host software binary create account 3 local account domain account cloud account create modify system process 5 launch agent systemd service windows service launch daemon container service event triggered execution 16 chan ok rules addins power settings preos boot 5 system firmware component firmware bootkit rommonkit tftp boot scheduled taskjob 5 cron scheduled task systemd timers container orchestrat roles boot logon autostart execution 14 registry run keys startup folder authentication package time providers winlogon helper dll security support provider kernel modules extensions r eopened applications lsass driver shortcut modification port monitors print processors xdg autostart entries active setup login items boot logon initialization scripts 5 logon script window licy modification 2 group policy modification trust modification escape host event triggered execution 16 change default file association screensaver windows management instrumentation even ection powershell profile emond component object model hijacking installer packages exploitation privilege escalation hijack execution flow 13 dll search order hijacking dll sideloading dyl deobfuscatedecode files information deploy container direct volume access domain tenant policy modification 2 group policy modification trust modification execution guardrails 1 env ironmental keying exploitation defense evasion file directory permissions modification 2 windows file directory permissions modification linux mac file directory permissions system impersonation indicator removal 9 clear windows event logs clear linux mac system logs clear command history file deletion network share connection removal timestomp clear network conn ection history configurations clear mailbox data clear persistence indirect command execution masquerading 9 invalid code signature righttoleft override rename system utilities masquerade es modify cloud compute infrastructure 5 create snapshot create cloud instance delete cloud instance revert cloud instance modify cloud compute configurations modify registry modify system ng listplanting reflective code loading rogue domain controller rootkit subvert trust controls 6 gatekeeper bypass code signing sip trust provider hijacking install root certificate markof id mavinject mmc electron applications system script proxy execution 2 pubprn syncappvpublishingserver template injection traffic signaling 2 port knocking socket filters trusted devel discovery container resource discovery debugger evasion device driver discovery domain trust discovery file directory discovery group policy discovery log enumeration network service discove ry network share discovery network sniffing password policy discovery peripheral device discovery permission groups discovery 3 local groups domain groups cloud groups process discovery query gistry remote system discovery software discovery 1 security software discovery system information discovery system location discovery 1 system language discovery system network config hijacking rdp hijacking remote services 8 remote desktop protocol smbwindows admin shares distributed component object model ssh vnc windows remote management cloud services direct cloud vm co nnections replication removable media software deployment tools taint shared content use alternate authentication material 4 application access token pass hash pass ticket web se encoding 2 standard encoding nonstandard encoding data obfuscation 3 junk data steganography protocol impersonation dynamic resolution 3 fast flux dns domain generation algorithms dns'"
            ],
            "application/vnd.google.colaboratory.intrinsic+json": {
              "type": "string"
            }
          },
          "metadata": {},
          "execution_count": 66
        }
      ]
    },
    {
      "cell_type": "code",
      "source": [
        "# Use word embeddings (GloVe)\n",
        "def embed_sentence(sentence):\n",
        "    tokens = [word for word in sentence.split() if word in glove_model.index_to_key]\n",
        "    if not tokens:\n",
        "        return np.zeros(glove_model.vector_size)\n",
        "    sum_vector = np.sum([glove_model.get_vector(word) for word in tokens], axis=0)\n",
        "    return sum_vector / len(tokens)"
      ],
      "metadata": {
        "id": "wg7B3GkPo6Dd"
      },
      "execution_count": 67,
      "outputs": []
    },
    {
      "cell_type": "code",
      "source": [
        "# Embed the cleaned documents\n",
        "embedding_document_threat = embed_sentence(cleaned_document_threat)\n",
        "embedding_document_action = embed_sentence(cleaned_document_action)\n",
        "embedding_document_information = embed_sentence(cleaned_document_information)"
      ],
      "metadata": {
        "id": "wY-oyXDM2eSR"
      },
      "execution_count": 68,
      "outputs": []
    },
    {
      "cell_type": "code",
      "source": [
        "np.shape(embedding_document_action)"
      ],
      "metadata": {
        "colab": {
          "base_uri": "https://localhost:8080/"
        },
        "id": "phm67R52slik",
        "outputId": "228116a8-9df4-47ad-f93e-4d9de98ca4fd"
      },
      "execution_count": 50,
      "outputs": [
        {
          "output_type": "execute_result",
          "data": {
            "text/plain": [
              "(100,)"
            ]
          },
          "metadata": {},
          "execution_count": 50
        }
      ]
    },
    {
      "cell_type": "code",
      "source": [
        "embedding_document_action"
      ],
      "metadata": {
        "colab": {
          "base_uri": "https://localhost:8080/"
        },
        "id": "LVbTc8SqxPcf",
        "outputId": "f8df48ee-44e6-4a11-ca97-c67f6b042e1e"
      },
      "execution_count": 69,
      "outputs": [
        {
          "output_type": "execute_result",
          "data": {
            "text/plain": [
              "array([ 1.87491059e-01,  1.19141228e-02, -1.32899538e-01,  6.29785061e-02,\n",
              "        2.32337862e-01,  2.44873147e-02,  6.95996583e-02, -4.61236566e-01,\n",
              "        1.15821503e-01, -2.62388468e-01,  2.69526523e-02, -2.99027991e-02,\n",
              "       -1.99521530e+00, -2.08851788e-02, -1.59212556e-02, -2.66904831e-01,\n",
              "        5.16563505e-02,  2.09062546e-01,  5.48107103e-02, -1.65864691e-01,\n",
              "       -2.84789979e-01,  2.29383349e-01,  5.96211143e-02,  2.59137452e-01,\n",
              "       -3.00509155e-01,  4.34768349e-01,  1.31214917e-01,  2.49174282e-01,\n",
              "        8.56598839e-02,  3.61900926e-01, -2.73295343e-02,  6.36331588e-02,\n",
              "       -6.50876462e-02, -3.70344341e-01,  3.92146647e-01, -1.22156061e-01,\n",
              "        1.49695739e-01,  1.95295230e-01,  4.81982306e-02, -1.18416995e-01,\n",
              "        1.31069511e-01,  2.39909649e-01, -4.86165769e-02,  3.10278144e-02,\n",
              "        2.31219694e-01,  7.41669089e-02, -1.28273204e-01, -1.29929930e-01,\n",
              "       -5.74086271e-02, -1.49320951e-02,  5.13202727e-01,  5.19210380e-03,\n",
              "       -5.45093179e-01,  2.19624668e-01, -3.26723099e-01,  2.06097782e-01,\n",
              "       -1.43009633e-01, -2.55117953e-01, -3.08758318e-01, -4.82839644e-02,\n",
              "        1.27772927e-01,  1.16917297e-01,  4.21012416e-02,  2.59685248e-01,\n",
              "        2.99442232e-01,  7.73675814e-02,  1.06698111e-01,  2.93521192e-02,\n",
              "        4.86020669e-02, -1.15586765e-01, -9.60176736e-02,  9.42825079e-02,\n",
              "       -1.98362306e-01,  1.53062772e-02,  5.15686572e-02, -1.12373285e-01,\n",
              "       -1.70290872e-01,  5.33131708e-04, -2.18915492e-02, -1.35549754e-01,\n",
              "        7.45262384e-01,  2.24667922e-01,  2.75880545e-01, -6.00628788e-03,\n",
              "        1.36623057e-02, -4.44269091e-01,  9.63905305e-02, -1.91452771e-01,\n",
              "        1.63173869e-01,  3.77103090e-02, -2.66612858e-01,  1.61870599e-01,\n",
              "        1.41604796e-01, -2.60860085e-01,  3.22118640e-01, -2.14909717e-01,\n",
              "        1.37700215e-01,  9.20480676e-03, -1.35096461e-01,  1.44635290e-02],\n",
              "      dtype=float32)"
            ]
          },
          "metadata": {},
          "execution_count": 69
        }
      ]
    },
    {
      "cell_type": "code",
      "source": [
        "regenerated_sentences_file = '/content/drive/My Drive/newtask/regenerated_sentences.txt'\n",
        "\n",
        "with open(regenerated_sentences_file, 'r') as file:\n",
        "    regenerated_sentences = file.readlines()"
      ],
      "metadata": {
        "id": "OY6zN_SqvAr1"
      },
      "execution_count": 53,
      "outputs": []
    },
    {
      "cell_type": "code",
      "source": [
        "# Specify the CSV file path\n",
        "csv_file = \"classified_sentences.csv\"\n",
        "\n",
        "# Classify sentences\n",
        "classified_sentences = []\n",
        "for sentence in regenerated_sentences:  # Process only the first 100 sentences\n",
        "    sentence_embedding = embed_sentence(sentence.strip())\n",
        "\n",
        "    max_similarity_threat = cosine_similarity([sentence_embedding], [embedding_document_threat])[0][0]\n",
        "    max_similarity_action = cosine_similarity([sentence_embedding], [embedding_document_action])[0][0]\n",
        "    max_similarity_information = cosine_similarity([sentence_embedding], [embedding_document_information])[0][0]\n",
        "\n",
        "    if max_similarity_threat > max_similarity_action and max_similarity_threat > max_similarity_information:\n",
        "        classified_sentences.append((sentence.strip(), 'threat'))\n",
        "    elif max_similarity_action > max_similarity_threat and max_similarity_action > max_similarity_information:\n",
        "        classified_sentences.append((sentence.strip(), 'action'))\n",
        "    elif max_similarity_information > max_similarity_threat and max_similarity_information > max_similarity_action:\n",
        "        classified_sentences.append((sentence.strip(), 'information'))"
      ],
      "metadata": {
        "id": "WBVrTPbu1a__"
      },
      "execution_count": 70,
      "outputs": []
    },
    {
      "cell_type": "code",
      "source": [
        "# Specify the CSV file path\n",
        "csv_file = \"/content/drive/My Drive/newtask/classified_sentences.csv\"\n",
        "\n",
        "# Write classified sentences to a CSV file under the \"newtask\" folder\n",
        "with open(csv_file, 'w', newline='') as file:\n",
        "    writer = csv.writer(file)\n",
        "    writer.writerow([\"Sentence\", \"Category\"])  # Write header\n",
        "    writer.writerows(classified_sentences)  # Write classified sentences\n",
        "\n",
        "print(\"Results saved to\", csv_file)"
      ],
      "metadata": {
        "colab": {
          "base_uri": "https://localhost:8080/"
        },
        "id": "msQKsa_K4tsH",
        "outputId": "fa25cf37-7749-47e1-efea-4c587b18aa0f"
      },
      "execution_count": 71,
      "outputs": [
        {
          "output_type": "stream",
          "name": "stdout",
          "text": [
            "Results saved to /content/drive/My Drive/newtask/classified_sentences.csv\n"
          ]
        }
      ]
    }
  ]
}